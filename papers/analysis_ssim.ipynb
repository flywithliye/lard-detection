{
 "cells": [
  {
   "cell_type": "markdown",
   "metadata": {},
   "source": [
    "# 环境变量"
   ]
  },
  {
   "cell_type": "code",
   "execution_count": 1,
   "metadata": {},
   "outputs": [
    {
     "name": "stdout",
     "output_type": "stream",
     "text": [
      "/fileonssd/runway-dataset/lard-dataset\n",
      "/home/yeli/workspace/lard/lard-detection\n"
     ]
    }
   ],
   "source": [
    "import os\n",
    "\n",
    "ROOT_DATA = os.environ.get('LARD_DATA_ROOT_PATH')\n",
    "ROOT_PROJECT = os.environ.get('LARD_PROJECT_ROOT_PATH')\n",
    "\n",
    "print(ROOT_DATA)\n",
    "print(ROOT_PROJECT)\n"
   ]
  },
  {
   "cell_type": "markdown",
   "metadata": {},
   "source": [
    "**this is to prove that why synthetic error increase**"
   ]
  },
  {
   "cell_type": "markdown",
   "metadata": {},
   "source": [
    "# LARD相似度-分组"
   ]
  },
  {
   "cell_type": "code",
   "execution_count": 29,
   "metadata": {},
   "outputs": [
    {
     "name": "stdout",
     "output_type": "stream",
     "text": [
      "32 groups found\n"
     ]
    },
    {
     "data": {
      "image/png": "[encoded data removed]",
      "text/plain": [
       "<Figure size 600x400 with 1 Axes>"
      ]
     },
     "metadata": {},
     "output_type": "display_data"
    }
   ],
   "source": [
    "import os\n",
    "import glob\n",
    "import random\n",
    "import numpy as np\n",
    "import matplotlib.pyplot as plt\n",
    "import scienceplots\n",
    "plt.style.use(['science', 'no-latex'])\n",
    "\n",
    "# 图片路径\n",
    "path_images = f'{ROOT_PROJECT}/datasets/lard/detection/train_all/images'\n",
    "all_path = glob.glob(f'{path_images}/*.jpeg')\n",
    "\n",
    "\n",
    "# 使用字典来分组，键为文件名前7个字符，值为相应的文件路径列表\n",
    "groups = {}\n",
    "for path in all_path:\n",
    "    key = os.path.basename(path)[:7]  # 提取文件名前7个字符作为键\n",
    "    if key in groups:\n",
    "        groups[key].append(path)\n",
    "    else:\n",
    "        groups[key] = [path]\n",
    "\n",
    "# 打印结果或进行后续处理\n",
    "print(f\"{len(groups.keys())} groups found\")\n",
    "# for key, paths in groups.items():\n",
    "#     print(f\"Group '{key}': {len(paths)} files\")\n",
    "\n",
    "# 绘图\n",
    "all_len_group = [len(v) for v in groups.values()]\n",
    "plt.figure(figsize=(6,4))\n",
    "plt.bar(x=np.arange(len(all_len_group)), height=all_len_group)\n",
    "plt.xlabel('Groups')\n",
    "plt.ylabel('Number of samples')\n",
    "plt.show()"
   ]
  },
  {
   "cell_type": "markdown",
   "metadata": {},
   "source": [
    "## SSIM矩阵计算"
   ]
  },
  {
   "cell_type": "code",
   "execution_count": 3,
   "metadata": {},
   "outputs": [
    {
     "name": "stderr",
     "output_type": "stream",
     "text": [
      "Preloading images: 100%|██████████| 32/32 [00:34<00:00,  1.08s/it]\n",
      "Processing group VABB_09: 100%|██████████| 190/190 [00:03<00:00, 57.82it/s]\n",
      "Processing group KMSY_11: 100%|██████████| 190/190 [00:03<00:00, 54.70it/s]\n",
      "Processing group LPPT_21: 100%|██████████| 190/190 [00:03<00:00, 56.86it/s]\n",
      "Processing group LFQQ_19: 100%|██████████| 190/190 [00:03<00:00, 54.16it/s]\n",
      "Processing group LFMP_15: 100%|██████████| 190/190 [00:03<00:00, 53.22it/s]\n",
      "Processing group KSFO_28: 100%|██████████| 190/190 [00:03<00:00, 55.51it/s]\n",
      "Processing group LFPO_24: 100%|██████████| 190/190 [00:03<00:00, 54.10it/s]\n",
      "Processing group LWSK_34: 100%|██████████| 190/190 [00:03<00:00, 55.69it/s]\n",
      "Processing group DAAG_05: 100%|██████████| 190/190 [00:03<00:00, 52.42it/s]\n",
      "Processing group LFPO_02: 100%|██████████| 190/190 [00:03<00:00, 50.74it/s]\n",
      "Processing group BIRK_13: 100%|██████████| 190/190 [00:03<00:00, 52.27it/s]\n",
      "Processing group KMSY_29: 100%|██████████| 190/190 [00:03<00:00, 52.60it/s]\n",
      "Processing group KMSY_20: 100%|██████████| 190/190 [00:03<00:00, 53.04it/s]\n",
      "Processing group DIAP_21: 100%|██████████| 190/190 [00:03<00:00, 52.75it/s]\n",
      "Processing group LICJ_07: 100%|██████████| 190/190 [00:03<00:00, 51.61it/s]\n",
      "Processing group LFQQ_26: 100%|██████████| 190/190 [00:03<00:00, 51.62it/s]\n",
      "Processing group VABB_14: 100%|██████████| 190/190 [00:03<00:00, 51.11it/s]\n",
      "Processing group LFST_05: 100%|██████████| 190/190 [00:03<00:00, 50.40it/s]\n",
      "Processing group DIAP_03: 100%|██████████| 190/190 [00:03<00:00, 50.20it/s]\n",
      "Processing group LFST_23: 100%|██████████| 190/190 [00:03<00:00, 50.18it/s]\n",
      "Processing group LFQQ_08: 100%|██████████| 190/190 [00:03<00:00, 50.41it/s]\n",
      "Processing group VABB_27: 100%|██████████| 190/190 [00:03<00:00, 52.48it/s]\n",
      "Processing group LFPO_25: 100%|██████████| 190/190 [00:03<00:00, 52.04it/s]\n",
      "Processing group DAAG_23: 100%|██████████| 190/190 [00:03<00:00, 53.22it/s]\n",
      "Processing group BIRK_01: 100%|██████████| 190/190 [00:03<00:00, 52.72it/s]\n",
      "Processing group LFQQ_01: 100%|██████████| 190/190 [00:03<00:00, 50.94it/s]\n",
      "Processing group SRLI_14: 100%|██████████| 190/190 [00:03<00:00, 51.13it/s]\n",
      "Processing group LPPT_03: 100%|██████████| 190/190 [00:03<00:00, 50.61it/s]\n",
      "Processing group SRLI_32: 100%|██████████| 190/190 [00:03<00:00, 51.62it/s]\n",
      "Processing group VABB_32: 100%|██████████| 190/190 [00:03<00:00, 57.95it/s]\n",
      "Processing group LIRN_06: 100%|██████████| 190/190 [00:03<00:00, 48.84it/s]\n",
      "Processing group KMSY_2_: 100%|██████████| 190/190 [00:04<00:00, 43.71it/s]\n"
     ]
    }
   ],
   "source": [
    "import cv2\n",
    "import numpy as np\n",
    "from tqdm import tqdm\n",
    "from skimage.metrics import structural_similarity as ssim\n",
    "from skimage.io import imread\n",
    "from concurrent.futures import ThreadPoolExecutor, as_completed\n",
    "\n",
    "def preload_images(new_groups):\n",
    "    \"\"\"预加载所有图像到内存中.\"\"\"\n",
    "    preloaded_images = {}\n",
    "    for key, paths in tqdm(new_groups.items(), desc=f'Preloading images'):\n",
    "        list_image = []\n",
    "        for path in paths:\n",
    "            img = cv2.imread(path)\n",
    "            img_resized = cv2.resize(img, (640, 640))\n",
    "            list_image.append(img_resized)\n",
    "        preloaded_images[key] = list_image\n",
    "    return preloaded_images\n",
    "\n",
    "def compute_ssim(idx_pair, images_pair):\n",
    "    \"\"\"计算并返回两个图像之间的SSIM值和它们的索引对.\"\"\"\n",
    "    img1, img2 = images_pair\n",
    "    ssim_value = ssim(img1, img2, multichannel=True, channel_axis=-1)\n",
    "    return idx_pair, ssim_value\n",
    "\n",
    "def sample_groups(groups, num_samples):\n",
    "    \"\"\"对groups的图像进行采样.\"\"\"\n",
    "    new_groups = {} \n",
    "    for key, paths in groups.items():\n",
    "        if len(paths) > num_samples:\n",
    "            new_groups[key] = random.sample(paths, num_samples)  # 随机选择new_num张\n",
    "        else:\n",
    "            new_groups[key] = paths  # 如果少于new_num张，就选择全部\n",
    "    return new_groups\n",
    "\n",
    "# 采样\n",
    "num_samples = 20\n",
    "sampled_groups = sample_groups(groups, num_samples)\n",
    "        \n",
    "# 预加载图像\n",
    "preloaded_images = preload_images(sampled_groups)  # 预加载图像\n",
    "\n",
    "# SSIM计算\n",
    "for key, images in preloaded_images.items():\n",
    "\n",
    "    # 创建一个n x n的SSIM矩阵\n",
    "    n = len(images)\n",
    "    ssim_matrix = np.zeros((n, n))\n",
    "\n",
    "    # 使用线程池并行计算\n",
    "    with ThreadPoolExecutor() as executor:\n",
    "\n",
    "        # 创建一个映射future到索引对的字典\n",
    "        future_to_idx = {}\n",
    "        tasks = []\n",
    "\n",
    "        # 提交任务\n",
    "        for i in range(n):\n",
    "            for j in range(i+1, n):\n",
    "                future = executor.submit(compute_ssim, (i, j), (images[i], images[j]))\n",
    "                future_to_idx[future] = (i, j)\n",
    "                tasks.append(future)\n",
    "\n",
    "        # 更新进度条\n",
    "        for future in tqdm(as_completed(tasks), total=len(tasks), desc=f'Processing group {key}'):\n",
    "            (i, j), ssim_value = future.result()\n",
    "            ssim_matrix[i, j] = ssim_value\n",
    "            ssim_matrix[j, i] = ssim_value  # 因为SSIM是对称的\n",
    "\n",
    "    # 将主对角线设置为1\n",
    "    np.fill_diagonal(ssim_matrix, 1)\n",
    "    np.savetxt(f'{ROOT_PROJECT}/results/tables/ssim/lard_grouped/ssim_matrix_{key}.csv', ssim_matrix, delimiter=',', fmt='%f')\n"
   ]
  },
  {
   "cell_type": "markdown",
   "metadata": {},
   "source": [
    "## 热力图"
   ]
  },
  {
   "cell_type": "code",
   "execution_count": 30,
   "metadata": {},
   "outputs": [
    {
     "data": {
      "image/png": "[encoded data removed]",
      "text/plain": [
       "<Figure size 2000x1000 with 33 Axes>"
      ]
     },
     "metadata": {},
     "output_type": "display_data"
    }
   ],
   "source": [
    "import glob\n",
    "import numpy as np\n",
    "import matplotlib.pyplot as plt\n",
    "\n",
    "all_ssim_mean = []\n",
    "fig, axs = plt.subplots(4, 8, figsize=(20, 10))\n",
    "\n",
    "# 读取并处理每个SSIM矩阵CSV文件\n",
    "all_csv = sorted(glob.glob(f'{ROOT_PROJECT}/results/tables/ssim/lard_grouped/ssim_*.csv'))\n",
    "for idx, path_text in enumerate(all_csv):\n",
    "    ssim_matrix = np.loadtxt(path_text, delimiter=',')\n",
    "    \n",
    "    # 计算当前SSIM矩阵的上三角均值并添加到列表\n",
    "    mean_value = np.mean(np.triu(ssim_matrix, k=1)[np.triu(ssim_matrix, k=1) != 0])\n",
    "    all_ssim_mean.append(mean_value)\n",
    "    \n",
    "    # 定位当前子图\n",
    "    ax = axs[idx // 8, idx % 8]\n",
    "    \n",
    "    # 在当前子图上绘制热力图\n",
    "    cax = ax.matshow(ssim_matrix, cmap='Blues', vmin=0, vmax=1)\n",
    "    ax.set_xticks([])\n",
    "    ax.set_yticks([])\n",
    "    \n",
    "cbar = fig.colorbar(cax, ax=axs.ravel().tolist(), orientation='vertical', fraction=.03, pad=0.04)\n",
    "cbar.ax.set_aspect(20)\n",
    "\n",
    "plt.show()"
   ]
  },
  {
   "cell_type": "markdown",
   "metadata": {},
   "source": [
    "## 均值分布"
   ]
  },
  {
   "cell_type": "code",
   "execution_count": 43,
   "metadata": {},
   "outputs": [
    {
     "data": {
      "image/png": "[encoded data removed]",
      "text/plain": [
       "<Figure size 600x400 with 1 Axes>"
      ]
     },
     "metadata": {},
     "output_type": "display_data"
    },
    {
     "name": "stdout",
     "output_type": "stream",
     "text": [
      "各组 [组内平均SSIM相似度] 的平均值:0.450\n"
     ]
    }
   ],
   "source": [
    "mean_ssim_lard_group = np.mean(all_ssim_mean)\n",
    "plt.figure(figsize=(6,4))\n",
    "plt.bar(x=np.arange(len(all_ssim_mean)), height=all_ssim_mean)\n",
    "plt.axhline(y=mean_ssim_lard_group, color='r', linestyle='--', label=f'Average mean SSIM: {mean_ssim_lard_group:.3f}')\n",
    "plt.xlabel('Groups')\n",
    "plt.ylabel('Mean SSIM')\n",
    "plt.legend()\n",
    "plt.show()\n",
    "print(f'各组 [组内平均SSIM相似度] 的平均值:{mean_ssim_lard_group:.3f}')\n",
    "\n",
    "# SSIM = 1：表示两幅图像完全相同。\n",
    "# SSIM > 0.75：通常可以认为图像具有较高的相似度，这意味着除了一些非常细微的差异外，两幅图像在视觉上非常接近。\n",
    "# SSIM 在 0.5 到 0.75 之间：图像间具有一定的相似度，但存在一些明显的差异。\n",
    "# SSIM < 0.5：通常表示图像相似度较低，差异较大。"
   ]
  },
  {
   "cell_type": "markdown",
   "metadata": {},
   "source": [
    "# LARD相似度"
   ]
  },
  {
   "cell_type": "code",
   "execution_count": 33,
   "metadata": {},
   "outputs": [
    {
     "name": "stderr",
     "output_type": "stream",
     "text": [
      "Preloading images:   0%|          | 0/200 [00:00<?, ?it/s]"
     ]
    },
    {
     "name": "stderr",
     "output_type": "stream",
     "text": [
      "Preloading images: 100%|██████████| 200/200 [00:10<00:00, 18.58it/s]\n"
     ]
    }
   ],
   "source": [
    "import random\n",
    "import glob\n",
    "import cv2\n",
    "from tqdm import tqdm\n",
    "from skimage.metrics import structural_similarity as ssim\n",
    "\n",
    "\n",
    "def compute_ssim(idx_pair, images_pair):\n",
    "    \"\"\"计算并返回两个图像之间的SSIM值和它们的索引对.\"\"\"\n",
    "    img1, img2 = images_pair\n",
    "    ssim_value = ssim(img1, img2, multichannel=True, channel_axis=-1)\n",
    "    return idx_pair, ssim_value\n",
    "\n",
    "# 图片路径\n",
    "path_images = f'{ROOT_PROJECT}/datasets/lard/detection/train_all/images'\n",
    "all_path = glob.glob(f'{path_images}/*.jpeg')\n",
    "num_samples = 200\n",
    "all_path = random.sample(all_path, num_samples)\n",
    "\n",
    "# 预加载\n",
    "images = []\n",
    "for path in tqdm(all_path, desc=f'Preloading images'):\n",
    "    img = cv2.imread(path)\n",
    "    img_resized = cv2.resize(img, (640, 640))\n",
    "    images.append(img_resized)\n",
    "    "
   ]
  },
  {
   "cell_type": "markdown",
   "metadata": {},
   "source": [
    "## CPU计算"
   ]
  },
  {
   "cell_type": "code",
   "execution_count": 34,
   "metadata": {},
   "outputs": [
    {
     "name": "stderr",
     "output_type": "stream",
     "text": [
      "Calculate SSIM: 100%|██████████| 19900/19900 [11:38<00:00, 28.50it/s]\n"
     ]
    }
   ],
   "source": [
    "from concurrent.futures import ThreadPoolExecutor, as_completed\n",
    "\n",
    "# SSIM计算\n",
    "# 创建一个n x n的SSIM矩阵\n",
    "n = len(images)\n",
    "ssim_matrix = np.zeros((n, n))\n",
    "\n",
    "# 使用线程池并行计算\n",
    "with ThreadPoolExecutor() as executor:\n",
    "\n",
    "    # 创建一个映射future到索引对的字典\n",
    "    future_to_idx = {}\n",
    "    tasks = []\n",
    "\n",
    "    # 提交任务\n",
    "    for i in range(n):\n",
    "        for j in range(i+1, n):\n",
    "            future = executor.submit(compute_ssim, (i, j), (images[i], images[j]))\n",
    "            future_to_idx[future] = (i, j)\n",
    "            tasks.append(future)\n",
    "\n",
    "    # 更新进度条\n",
    "    for future in tqdm(as_completed(tasks), total=len(tasks), desc='Calculate SSIM'):\n",
    "        (i, j), ssim_value = future.result()\n",
    "        ssim_matrix[i, j] = ssim_value\n",
    "        ssim_matrix[j, i] = ssim_value  # 因为SSIM是对称的\n",
    "\n",
    "# 将主对角线设置为1\n",
    "np.fill_diagonal(ssim_matrix, 1)\n",
    "np.savetxt(f'{ROOT_PROJECT}/results/tables/ssim/lard/ssim_matrix_cpu.csv', ssim_matrix, delimiter=',', fmt='%f')"
   ]
  },
  {
   "cell_type": "markdown",
   "metadata": {},
   "source": [
    "## CPU结果分析"
   ]
  },
  {
   "cell_type": "code",
   "execution_count": 35,
   "metadata": {},
   "outputs": [
    {
     "name": "stdout",
     "output_type": "stream",
     "text": [
      "(200, 200)\n",
      "0.420\n"
     ]
    }
   ],
   "source": [
    "import numpy as np\n",
    "\n",
    "ssim_matrix_lard_cpu = np.loadtxt(f'{ROOT_PROJECT}/results/tables/ssim/lard/ssim_matrix_cpu.csv', delimiter=',')\n",
    "mean_ssim_lard_cpu = np.mean(np.triu(ssim_matrix_lard_cpu, k=1)[np.triu(ssim_matrix_lard_cpu, k=1) != 0])\n",
    "print(ssim_matrix_lard_cpu.shape)\n",
    "print(f'{mean_ssim_lard_cpu:.3f}')"
   ]
  },
  {
   "cell_type": "markdown",
   "metadata": {},
   "source": [
    "## GPU计算"
   ]
  },
  {
   "cell_type": "code",
   "execution_count": 37,
   "metadata": {},
   "outputs": [
    {
     "name": "stdout",
     "output_type": "stream",
     "text": [
      "(19900, 640, 640, 3) (19900, 640, 640, 3)\n",
      "torch.Size([19900, 640, 640, 3]) torch.Size([19900, 640, 640, 3])\n"
     ]
    },
    {
     "name": "stderr",
     "output_type": "stream",
     "text": [
      "100%|██████████| 78/78 [00:49<00:00,  1.59it/s]\n"
     ]
    },
    {
     "name": "stdout",
     "output_type": "stream",
     "text": [
      "0.431\n"
     ]
    }
   ],
   "source": [
    "import numpy as np\n",
    "import torch\n",
    "from tqdm import tqdm\n",
    "from pytorch_msssim import ssim\n",
    "\n",
    "# 数据构造\n",
    "X, Y = [], []\n",
    "for i in range(n):\n",
    "    for j in range(i+1, n):\n",
    "        X.append(i)\n",
    "        Y.append(j)\n",
    "\n",
    "X = np.stack([images[i] for i in X], axis=0)\n",
    "Y = np.stack([images[i] for i in Y], axis=0)\n",
    "print(X.shape, Y.shape)\n",
    "\n",
    "# 构造tensor变量\n",
    "X = torch.from_numpy(X).type(torch.float32)\n",
    "Y = torch.from_numpy(Y).type(torch.float32)\n",
    "print(X.shape, Y.shape)\n",
    "\n",
    "# GPU加速计算\n",
    "# ! pip install pytorch-msssim\n",
    "batch_size = 256\n",
    "ssim_vals = []\n",
    "\n",
    "# 关闭梯度\n",
    "with torch.no_grad():\n",
    "    for i in tqdm(range(0, X.size(0), batch_size)):\n",
    "        X_batch = X[i:i+batch_size].permute(0, 3, 1, 2).cuda()\n",
    "        Y_batch = Y[i:i+batch_size].permute(0, 3, 1, 2).cuda()\n",
    "        ssim_val_batch = ssim(X_batch, Y_batch, data_range=255, size_average=False)\n",
    "        ssim_vals.append(ssim_val_batch.cpu())\n",
    "\n",
    "ssim_vals = torch.cat(ssim_vals, dim=0)\n",
    "ssim_vals = ssim_vals.detach().numpy()\n",
    "np.savetxt(f'{ROOT_PROJECT}/results/tables/ssim/lard/ssim_matrix_gpu.csv', ssim_vals, delimiter=',', fmt='%f')\n",
    "\n",
    "# 平均SSIM值\n",
    "mean_ssim_lard_gpu = ssim_vals.mean()\n",
    "print(f'{mean_ssim_lard_gpu:.3f}')\n",
    "\n",
    "# 删除变量\n",
    "del X_batch, Y_batch, X, Y, ssim_val_batch\n",
    "torch.cuda.empty_cache()"
   ]
  },
  {
   "cell_type": "markdown",
   "metadata": {},
   "source": [
    "# COCO相似度"
   ]
  },
  {
   "cell_type": "code",
   "execution_count": 38,
   "metadata": {},
   "outputs": [
    {
     "name": "stderr",
     "output_type": "stream",
     "text": [
      "Preloading images: 100%|██████████| 200/200 [00:01<00:00, 117.31it/s]\n"
     ]
    }
   ],
   "source": [
    "import random\n",
    "import glob\n",
    "import cv2\n",
    "import numpy as np\n",
    "from tqdm import tqdm\n",
    "from skimage.metrics import structural_similarity as ssim\n",
    "from concurrent.futures import ThreadPoolExecutor, as_completed\n",
    "\n",
    "\n",
    "def compute_ssim(idx_pair, images_pair):\n",
    "    \"\"\"计算并返回两个图像之间的SSIM值和它们的索引对.\"\"\"\n",
    "    img1, img2 = images_pair\n",
    "    ssim_value = ssim(img1, img2, multichannel=True, channel_axis=-1)\n",
    "    return idx_pair, ssim_value\n",
    "\n",
    "# 图片路径\n",
    "path_images = f'{ROOT_PROJECT}/datasets/coco/images/train2017'\n",
    "all_path = glob.glob(f'{path_images}/*.jpg')\n",
    "num_samples = 200\n",
    "all_path = random.sample(all_path, num_samples)\n",
    "\n",
    "# 预加载\n",
    "images = []\n",
    "for path in tqdm(all_path, desc=f'Preloading images'):\n",
    "    img = cv2.imread(path)\n",
    "    img_resized = cv2.resize(img, (640, 640))\n",
    "    images.append(img_resized)\n"
   ]
  },
  {
   "cell_type": "markdown",
   "metadata": {},
   "source": [
    "## CPU计算"
   ]
  },
  {
   "cell_type": "code",
   "execution_count": 39,
   "metadata": {},
   "outputs": [
    {
     "name": "stderr",
     "output_type": "stream",
     "text": [
      "Calculate SSIM: 100%|██████████| 19900/19900 [04:26<00:00, 74.57it/s] \n"
     ]
    }
   ],
   "source": [
    "# SSIM计算\n",
    "# 创建一个n x n的SSIM矩阵\n",
    "n = len(images)\n",
    "ssim_matrix = np.zeros((n, n))\n",
    "\n",
    "# 使用线程池并行计算\n",
    "with ThreadPoolExecutor() as executor:\n",
    "\n",
    "    # 创建一个映射future到索引对的字典\n",
    "    future_to_idx = {}\n",
    "    tasks = []\n",
    "\n",
    "    # 提交任务\n",
    "    for i in range(n):\n",
    "        for j in range(i+1, n):\n",
    "            future = executor.submit(compute_ssim, (i, j), (images[i], images[j]))\n",
    "            future_to_idx[future] = (i, j)\n",
    "            tasks.append(future)\n",
    "\n",
    "    # 更新进度条\n",
    "    for future in tqdm(as_completed(tasks), total=len(tasks), desc='Calculate SSIM'):\n",
    "        (i, j), ssim_value = future.result()\n",
    "        ssim_matrix[i, j] = ssim_value\n",
    "        ssim_matrix[j, i] = ssim_value  # 因为SSIM是对称的\n",
    "\n",
    "# 将主对角线设置为1\n",
    "np.fill_diagonal(ssim_matrix, 1)\n",
    "np.savetxt(f'{ROOT_PROJECT}/results/tables/ssim/coco/ssim_matrix_cpu.csv', ssim_matrix, delimiter=',', fmt='%f')"
   ]
  },
  {
   "cell_type": "markdown",
   "metadata": {},
   "source": [
    "## CPU结果分析"
   ]
  },
  {
   "cell_type": "code",
   "execution_count": 41,
   "metadata": {},
   "outputs": [
    {
     "name": "stdout",
     "output_type": "stream",
     "text": [
      "(200, 200)\n",
      "0.193\n"
     ]
    }
   ],
   "source": [
    "import numpy as np\n",
    "\n",
    "ssim_matrix_coco_cpu = np.loadtxt(f'{ROOT_PROJECT}/results/tables/ssim/coco/ssim_matrix_cpu.csv', delimiter=',')\n",
    "mean_ssim_coco_cpu = np.mean(np.triu(ssim_matrix_coco_cpu, k=1)[np.triu(ssim_matrix_coco_cpu, k=1) != 0])\n",
    "print(ssim_matrix_coco_cpu.shape)\n",
    "print(f'{mean_ssim_coco_cpu:.3f}')"
   ]
  },
  {
   "cell_type": "markdown",
   "metadata": {},
   "source": [
    "## GPU计算"
   ]
  },
  {
   "cell_type": "code",
   "execution_count": 42,
   "metadata": {},
   "outputs": [
    {
     "name": "stdout",
     "output_type": "stream",
     "text": [
      "(19900, 640, 640, 3) (19900, 640, 640, 3)\n",
      "torch.Size([19900, 640, 640, 3]) torch.Size([19900, 640, 640, 3])\n"
     ]
    },
    {
     "name": "stderr",
     "output_type": "stream",
     "text": [
      "100%|██████████| 78/78 [00:48<00:00,  1.62it/s]\n"
     ]
    },
    {
     "name": "stdout",
     "output_type": "stream",
     "text": [
      "0.216\n"
     ]
    }
   ],
   "source": [
    "import numpy as np\n",
    "import torch\n",
    "from tqdm import tqdm\n",
    "from pytorch_msssim import ssim\n",
    "\n",
    "# 数据构造\n",
    "X, Y = [], []\n",
    "for i in range(n):\n",
    "    for j in range(i+1, n):\n",
    "        X.append(i)\n",
    "        Y.append(j)\n",
    "\n",
    "X = np.stack([images[i] for i in X], axis=0)\n",
    "Y = np.stack([images[i] for i in Y], axis=0)\n",
    "print(X.shape, Y.shape)\n",
    "\n",
    "# 构造tensor变量\n",
    "X = torch.from_numpy(X).type(torch.float32)\n",
    "Y = torch.from_numpy(Y).type(torch.float32)\n",
    "print(X.shape, Y.shape)\n",
    "\n",
    "# GPU加速计算\n",
    "# ! pip install pytorch-msssim\n",
    "batch_size = 256\n",
    "ssim_vals = []\n",
    "\n",
    "# 关闭梯度\n",
    "with torch.no_grad():\n",
    "    for i in tqdm(range(0, X.size(0), batch_size)):\n",
    "        X_batch = X[i:i+batch_size].permute(0, 3, 1, 2).cuda()\n",
    "        Y_batch = Y[i:i+batch_size].permute(0, 3, 1, 2).cuda()\n",
    "        ssim_val_batch = ssim(X_batch, Y_batch, data_range=255, size_average=False)\n",
    "        ssim_vals.append(ssim_val_batch.cpu())\n",
    "\n",
    "ssim_vals = torch.cat(ssim_vals, dim=0)\n",
    "ssim_vals = ssim_vals.detach().numpy()\n",
    "np.savetxt(f'{ROOT_PROJECT}/results/tables/ssim/coco/ssim_matrix_gpu.csv', ssim_vals, delimiter=',', fmt='%f')\n",
    "\n",
    "# 平均SSIM值\n",
    "mean_ssim_coco_gpu = ssim_vals.mean()\n",
    "print(f'{mean_ssim_coco_gpu:.3f}')\n",
    "\n",
    "# 删除变量\n",
    "del X_batch, Y_batch, X, Y, ssim_val_batch\n",
    "torch.cuda.empty_cache()"
   ]
  },
  {
   "cell_type": "markdown",
   "metadata": {},
   "source": [
    "# 相似度对比"
   ]
  },
  {
   "cell_type": "code",
   "execution_count": 46,
   "metadata": {},
   "outputs": [
    {
     "name": "stdout",
     "output_type": "stream",
     "text": [
      "COCO mean SSIM CPU: 0.193\n",
      "COCO mean SSIM GPU: 0.216\n",
      "LARD mean SSIM CPU: 0.420\n",
      "LARD mean SSIM GPU: 0.431\n",
      "LARD mean SSIM group: 0.450\n"
     ]
    }
   ],
   "source": [
    "print(f'COCO mean SSIM CPU: {mean_ssim_coco_cpu:.3f}')\n",
    "print(f'COCO mean SSIM GPU: {mean_ssim_coco_gpu:.3f}')\n",
    "\n",
    "print(f'LARD mean SSIM CPU: {mean_ssim_lard_cpu:.3f}')\n",
    "print(f'LARD mean SSIM GPU: {mean_ssim_lard_gpu:.3f}')\n",
    "print(f'LARD mean SSIM group: {mean_ssim_lard_group:.3f}')"
   ]
  }
 ],
 "metadata": {
  "kernelspec": {
   "display_name": "Python 3",
   "language": "python",
   "name": "python3"
  },
  "language_info": {
   "codemirror_mode": {
    "name": "ipython",
    "version": 3
   },
   "file_extension": ".py",
   "mimetype": "text/x-python",
   "name": "python",
   "nbconvert_exporter": "python",
   "pygments_lexer": "ipython3",
   "version": "3.9.7"
  }
 },
 "nbformat": 4,
 "nbformat_minor": 2
}
