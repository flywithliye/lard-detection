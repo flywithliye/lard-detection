{
 "cells": [
  {
   "cell_type": "code",
   "execution_count": 1,
   "metadata": {},
   "outputs": [
    {
     "name": "stdout",
     "output_type": "stream",
     "text": [
      "/fileonssd/lard-dataset\n",
      "/home/yeli/workspace/lard/lard-detection\n"
     ]
    }
   ],
   "source": [
    "import os\n",
    "\n",
    "ROOT_DATA = os.environ.get('LARD_DATA_ROOT_PATH')\n",
    "ROOT_PROJECT = os.environ.get('LARD_PROJECT_ROOT_PATH')\n",
    "\n",
    "print(ROOT_DATA)\n",
    "print(ROOT_PROJECT)"
   ]
  },
  {
   "cell_type": "code",
   "execution_count": 2,
   "metadata": {},
   "outputs": [
    {
     "data": {
      "text/plain": [
       "Compose([\n",
       "  OneOf([\n",
       "    RandomToneCurve(always_apply=False, p=0.5, scale=0.1),\n",
       "    HueSaturationValue(always_apply=False, p=0.5, hue_shift_limit=(-20, 20), sat_shift_limit=(-30, 30), val_shift_limit=(-20, 20)),\n",
       "    Solarize(always_apply=False, p=0.5, threshold=(245, 245)),\n",
       "    Posterize(always_apply=False, p=0.5, num_bits=(7, 7)),\n",
       "    Equalize(always_apply=False, p=0.5, mode='cv', by_channels=True),\n",
       "    RGBShift(always_apply=False, p=0.5, r_shift_limit=(-20, 20), g_shift_limit=(-20, 20), b_shift_limit=(-20, 20)),\n",
       "    RandomBrightnessContrast(always_apply=False, p=0.5, brightness_limit=(-0.2, 0.2), contrast_limit=(-0.2, 0.2), brightness_by_max=True),\n",
       "    GaussNoise(always_apply=False, p=0.5, var_limit=[10.0, 50.0], per_channel=True, mean=0),\n",
       "    ISONoise(always_apply=False, p=0.5, intensity=[0.1, 0.5], color_shift=[0.01, 0.05]),\n",
       "    CLAHE(always_apply=False, p=0.5, clip_limit=(1, 4.0), tile_grid_size=(8, 8)),\n",
       "    ChannelShuffle(always_apply=False, p=0.5),\n",
       "    InvertImg(always_apply=False, p=0.5),\n",
       "    RandomGamma(always_apply=False, p=0.5, gamma_limit=(80, 120), eps=None),\n",
       "    ToGray(always_apply=False, p=0.5),\n",
       "    ToSepia(always_apply=False, p=0.5),\n",
       "    Downscale(always_apply=False, p=0.5, scale_min=0.25, scale_max=0.25),\n",
       "    MultiplicativeNoise(always_apply=False, p=0.5, multiplier=(0.9, 1.1), per_channel=False, elementwise=False),\n",
       "    FancyPCA(always_apply=False, p=0.5, alpha=0.1),\n",
       "    ColorJitter(always_apply=False, p=0.5, brightness=[0.8, 1.2], contrast=[0.8, 1.2], saturation=[0.8, 1.2], hue=[-0.2, 0.2]),\n",
       "    Sharpen(always_apply=False, p=0.5, alpha=(0.2, 0.5), lightness=(0.5, 1.0)),\n",
       "    Emboss(always_apply=False, p=0.5, alpha=(0.2, 0.5), strength=(0.2, 0.7)),\n",
       "    Superpixels(always_apply=False, p=0.5, p_replace=(0.1, 0.1), n_segments=(100, 100), max_size=128, interpolation=1),\n",
       "    RingingOvershoot(always_apply=False, p=0.5, blur_limit=(7, 15), cutoff=(0.7853981633974483, 1.5707963267948966)),\n",
       "    UnsharpMask(always_apply=False, p=0.5, blur_limit=(3, 7), sigma_limit=(0.0, 0.0), alpha=(0.2, 0.5), threshold=10),\n",
       "    PixelDropout(always_apply=False, p=0.5, dropout_prob=0.01, per_channel=False, drop_value=0, mask_drop_value=None),\n",
       "    Spatter(always_apply=False, p=0.5, mean=(0.65, 0.65), std=(0.3, 0.3), gauss_sigma=(2, 2), intensity=(0.6, 0.6), cutout_threshold=(0.68, 0.68), mode=['rain', 'mud'], color={'rain': [238, 238, 175], 'mud': [20, 42, 63]}),\n",
       "  ], p=1.0),\n",
       "  OneOf([\n",
       "    ImageCompression(always_apply=False, p=0.5, quality_lower=30, quality_upper=90, compression_type=0),\n",
       "    ImageCompression(always_apply=False, p=0.5, quality_lower=30, quality_upper=90, compression_type=1),\n",
       "  ], p=1.0),\n",
       "  OneOf([\n",
       "    Blur(always_apply=False, p=0.5, blur_limit=(3, 7)),\n",
       "    MotionBlur(always_apply=False, p=0.5, blur_limit=(3, 7), allow_shifted=True),\n",
       "    MedianBlur(always_apply=False, p=0.5, blur_limit=(3, 7)),\n",
       "    GaussianBlur(always_apply=False, p=0.5, blur_limit=(3, 7), sigma_limit=(0, 0)),\n",
       "    GlassBlur(always_apply=False, p=0.5, sigma=0.7, max_delta=4, iterations=2),\n",
       "    AdvancedBlur(always_apply=False, p=0.5, blur_limit=(3, 7), sigmaX_limit=(0.2, 1.0), sigmaY_limit=(0.2, 1.0), rotate_limit=(-90, 90), beta_limit=(0.5, 8.0), noise_limit=(0.9, 1.1)),\n",
       "    Defocus(always_apply=False, p=0.5, radius=(3, 10), alias_blur=(0.1, 0.5)),\n",
       "    ZoomBlur(always_apply=False, p=0.5, max_factor=(1.0, 1.31), step_factor=(0.01, 0.03)),\n",
       "  ], p=1.0),\n",
       "  OneOf([\n",
       "    ShiftScaleRotate(always_apply=False, p=0.5, shift_limit_x=(-0.0625, 0.0625), shift_limit_y=(-0.0625, 0.0625), scale_limit=(-0.09999999999999998, 0.10000000000000009), rotate_limit=(-45, 45), interpolation=1, border_mode=4, value=None, mask_value=None, rotate_method='largest_box'),\n",
       "    ElasticTransform(always_apply=False, p=0.5, alpha=1, sigma=50, alpha_affine=50, interpolation=1, border_mode=4, value=None, mask_value=None, approximate=False, same_dxdy=False),\n",
       "    Perspective(always_apply=False, p=0.5, scale=(0.05, 0.1), keep_size=True, pad_mode=0, pad_val=0, mask_pad_val=0, fit_output=False, interpolation=1),\n",
       "    Affine(always_apply=False, p=0.5, interpolation=1, mask_interpolation=0, cval=0, mode=0, scale={'x': (0.9, 1.1), 'y': (0.9, 1.1)}, translate_percent={'x': (-0.1, 0.1), 'y': (-0.1, 0.1)}, translate_px=None, rotate=(-15, 15), fit_output=False, shear={'x': (-10, 10), 'y': (-10, 10)}, cval_mask=0, keep_ratio=False, rotate_method='largest_box'),\n",
       "    PiecewiseAffine(always_apply=False, p=0.5, scale=(0.03, 0.05), nb_rows=(4, 4), nb_cols=(4, 4), interpolation=1, mask_interpolation=0, cval=0, cval_mask=0, mode='constant', absolute_scale=False, keypoints_threshold=0.01),\n",
       "    VerticalFlip(always_apply=False, p=0.5),\n",
       "    HorizontalFlip(always_apply=False, p=0.5),\n",
       "    Flip(always_apply=False, p=0.5),\n",
       "    OpticalDistortion(always_apply=False, p=0.5, distort_limit=(-0.05, 0.05), shift_limit=(-0.05, 0.05), interpolation=1, border_mode=4, value=None, mask_value=None),\n",
       "    GridDistortion(always_apply=False, p=0.5, num_steps=5, distort_limit=(-0.3, 0.3), interpolation=1, border_mode=4, value=None, mask_value=None, normalized=False),\n",
       "    ChannelDropout(always_apply=False, p=0.5, channel_drop_range=[1, 1], fill_value=0),\n",
       "  ], p=1.0),\n",
       "  OneOf([\n",
       "    RandomRain(always_apply=False, p=0.5, slant_lower=-10, slant_upper=10, drop_length=30, drop_width=2, drop_color=[200, 200, 200], blur_value=10, brightness_coefficient=0.9, rain_type=None),\n",
       "    RandomSnow(always_apply=False, p=0.5, snow_point_lower=0.3, snow_point_upper=0.7, brightness_coeff=2.5),\n",
       "    RandomFog(always_apply=False, p=0.5, fog_coef_lower=0.1, fog_coef_upper=0.3, alpha_coef=0.3),\n",
       "    RandomShadow(always_apply=False, p=0.5, shadow_roi=[0, 0.5, 1, 1], num_shadows_lower=1, num_shadows_upper=2, shadow_dimension=5),\n",
       "    RandomSunFlare(always_apply=False, p=0.5, flare_roi=(0, 0, 1, 0.5), angle_lower=0.5, angle_upper=1, num_flare_circles_lower=6, num_flare_circles_upper=10, src_radius=400, src_color=[255, 255, 255]),\n",
       "  ], p=1.0),\n",
       "], p=1.0, bbox_params={'format': 'yolo', 'label_fields': ['class_labels'], 'min_area': 0.0, 'min_visibility': 0.0, 'min_width': 0.0, 'min_height': 0.0, 'check_each_transform': True}, keypoint_params=None, additional_targets={}, is_check_shapes=True)"
      ]
     },
     "execution_count": 2,
     "metadata": {},
     "output_type": "execute_result"
    }
   ],
   "source": [
    "import albumentations as A\n",
    "\n",
    "lard_transform_loaded = A.load(\n",
    "    f'{ROOT_PROJECT}/cfg/ultralytics/datasets/lard_transform.json')\n",
    "lard_transform_loaded"
   ]
  }
 ],
 "metadata": {
  "kernelspec": {
   "display_name": "lard",
   "language": "python",
   "name": "python3"
  },
  "language_info": {
   "codemirror_mode": {
    "name": "ipython",
    "version": 3
   },
   "file_extension": ".py",
   "mimetype": "text/x-python",
   "name": "python",
   "nbconvert_exporter": "python",
   "pygments_lexer": "ipython3",
   "version": "3.9.7"
  }
 },
 "nbformat": 4,
 "nbformat_minor": 2
}
