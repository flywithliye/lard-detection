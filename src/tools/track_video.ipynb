{
 "cells": [
  {
   "cell_type": "markdown",
   "metadata": {},
   "source": [
    "# 变量定义"
   ]
  },
  {
   "cell_type": "code",
   "execution_count": 1,
   "metadata": {},
   "outputs": [
    {
     "name": "stdout",
     "output_type": "stream",
     "text": [
      "/fileonssd/runway-dataset/lard-dataset\n",
      "/home/yeli/workspace/lard/lard-detection\n"
     ]
    }
   ],
   "source": [
    "import os\n",
    "\n",
    "ROOT_DATA = os.environ.get('LARD_DATA_ROOT_PATH')\n",
    "ROOT_PROJECT = os.environ.get('LARD_PROJECT_ROOT_PATH')\n",
    "\n",
    "print(ROOT_DATA)\n",
    "print(ROOT_PROJECT)\n"
   ]
  },
  {
   "cell_type": "code",
   "execution_count": 2,
   "metadata": {},
   "outputs": [
    {
     "name": "stdout",
     "output_type": "stream",
     "text": [
      "/home/yeli/workspace/lard/lard-detection/runs/ultralytics/finetune/yolov8n_lska_bifpn_aug_color_blur_geo_weather_10_640/triple/train/weights/last.pt\n",
      "/home/yeli/workspace/lard/lard-detection/datasets/video/landing_1.mp4\n"
     ]
    }
   ],
   "source": [
    "path_best_model = f'{ROOT_PROJECT}/runs/ultralytics/finetune/yolov8n_lska_bifpn_aug_color_blur_geo_weather_10_640/triple/train/weights/last.pt'\n",
    "path_video = f'{ROOT_PROJECT}/datasets/video/landing_1.mp4'\n",
    "\n",
    "print(f'{path_best_model}')\n",
    "print(f'{path_video}')"
   ]
  },
  {
   "cell_type": "markdown",
   "metadata": {},
   "source": [
    "# 获取视频信息"
   ]
  },
  {
   "cell_type": "code",
   "execution_count": 5,
   "metadata": {},
   "outputs": [
    {
     "name": "stdout",
     "output_type": "stream",
     "text": [
      "frame_width: 1920\n",
      "frame_height: 1008\n",
      "frame_rate: 30\n",
      "total_frames: 241\n"
     ]
    }
   ],
   "source": [
    "import cv2\n",
    "\n",
    "# 原始参数\n",
    "cap = cv2.VideoCapture(path_video)\n",
    "frame_width = int(cap.get(cv2.CAP_PROP_FRAME_WIDTH))\n",
    "frame_height = int(cap.get(cv2.CAP_PROP_FRAME_HEIGHT))\n",
    "frame_rate = int(cap.get(cv2.CAP_PROP_FPS))\n",
    "total_frames = int(cap.get(cv2.CAP_PROP_FRAME_COUNT))\n",
    "cap.release()\n",
    "\n",
    "# 输出视频参数\n",
    "ratio_compression = 1\n",
    "frame_width = int(frame_width/ratio_compression)\n",
    "frame_height = int(frame_height/ratio_compression)\n",
    "\n",
    "# 打印参数\n",
    "print(f\"frame_width: {frame_width}\")\n",
    "print(f\"frame_height: {frame_height}\")\n",
    "print(f\"frame_rate: {frame_rate}\")\n",
    "print(f\"total_frames: {total_frames}\")"
   ]
  },
  {
   "cell_type": "code",
   "execution_count": 4,
   "metadata": {},
   "outputs": [],
   "source": [
    "fourcc = cv2.VideoWriter_fourcc(*\"mp4v\")"
   ]
  },
  {
   "cell_type": "markdown",
   "metadata": {},
   "source": [
    "# 视频 - 检测"
   ]
  },
  {
   "cell_type": "code",
   "execution_count": 6,
   "metadata": {},
   "outputs": [
    {
     "name": "stderr",
     "output_type": "stream",
     "text": [
      "处理进度: 100%|███████████████████████████████████████████████████| 241/241 [00:06<00:00, 38.19it/s]"
     ]
    },
    {
     "name": "stdout",
     "output_type": "stream",
     "text": [
      "文件保存至: /home/yeli/workspace/lard/lard-detection/results/videos/output-detection.mp4 文件大小: 15.49 MB\n"
     ]
    },
    {
     "name": "stderr",
     "output_type": "stream",
     "text": [
      "\n"
     ]
    }
   ],
   "source": [
    "import cv2\n",
    "from tqdm import tqdm\n",
    "from ultralytics import YOLO\n",
    "\n",
    "# 加载模型\n",
    "model = YOLO(path_best_model)\n",
    "\n",
    "# 打开原始视频\n",
    "cap = cv2.VideoCapture(path_video)\n",
    "\n",
    "# 创建VideoWriter对象\n",
    "path_output = f'{ROOT_PROJECT}/results/videos/output-detection.mp4'\n",
    "out = cv2.VideoWriter(path_output, fourcc, frame_rate, (frame_width, frame_height))\n",
    "\n",
    "# 初始化进度条\n",
    "with tqdm(total=total_frames, desc=\"处理进度\", ncols=100) as pbar:\n",
    "    # 遍历视频\n",
    "    while cap.isOpened():\n",
    "        success, frame = cap.read()\n",
    "        if success:\n",
    "            results = model.predict(frame, verbose=False)\n",
    "            frame = results[0].plot()\n",
    "            frame = cv2.resize(frame, (frame_width, frame_height))\n",
    "            out.write(frame)\n",
    "            pbar.update(1)\n",
    "        else:\n",
    "            break\n",
    "\n",
    "# 释放资源\n",
    "cap.release()\n",
    "out.release()\n",
    "\n",
    "# 文件尺寸计算\n",
    "file_size = os.path.getsize(path_output) / (1024 ** 2)\n",
    "print(f\"文件保存至: {path_output} 文件大小: {file_size:.2f} MB\")"
   ]
  },
  {
   "cell_type": "markdown",
   "metadata": {},
   "source": [
    "# 视频 - 追踪"
   ]
  },
  {
   "cell_type": "code",
   "execution_count": 7,
   "metadata": {},
   "outputs": [
    {
     "name": "stderr",
     "output_type": "stream",
     "text": [
      "处理进度: 100%|███████████████████████████████████████████████████| 241/241 [00:07<00:00, 33.07it/s]"
     ]
    },
    {
     "name": "stdout",
     "output_type": "stream",
     "text": [
      "文件保存至: /home/yeli/workspace/lard/lard-detection/results/videos/output-track.mp4 文件大小: 15.56 MB\n"
     ]
    },
    {
     "name": "stderr",
     "output_type": "stream",
     "text": [
      "\n"
     ]
    }
   ],
   "source": [
    "import cv2\n",
    "from tqdm import tqdm\n",
    "\n",
    "# 加载模型\n",
    "model = YOLO(path_best_model)\n",
    "\n",
    "# 打开原始视频\n",
    "cap = cv2.VideoCapture(path_video)\n",
    "\n",
    "# 创建VideoWriter对象\n",
    "path_output = f'{ROOT_PROJECT}/results/videos/output-track.mp4'\n",
    "out = cv2.VideoWriter(path_output, fourcc, frame_rate, (frame_width, frame_height))\n",
    "\n",
    "# 初始化进度条\n",
    "with tqdm(total=total_frames, desc=\"处理进度\", ncols=100) as pbar:\n",
    "    # 遍历视频\n",
    "    while cap.isOpened():\n",
    "        success, frame = cap.read()\n",
    "        if success:\n",
    "            results = model.track(frame, persist=True, verbose=False)\n",
    "            frame = results[0].plot()\n",
    "            frame = cv2.resize(frame, (frame_width, frame_height))\n",
    "            out.write(frame)\n",
    "            pbar.update(1)\n",
    "        else:\n",
    "            break\n",
    "\n",
    "# 释放资源\n",
    "cap.release()\n",
    "out.release()\n",
    "\n",
    "# 文件尺寸计算\n",
    "file_size = os.path.getsize(path_output) / (1024 ** 2)\n",
    "print(f\"文件保存至: {path_output} 文件大小: {file_size:.2f} MB\")"
   ]
  },
  {
   "cell_type": "markdown",
   "metadata": {},
   "source": [
    "# 视频-追踪-光流"
   ]
  },
  {
   "cell_type": "code",
   "execution_count": 8,
   "metadata": {},
   "outputs": [
    {
     "name": "stderr",
     "output_type": "stream",
     "text": [
      "处理进度: 100%|███████████████████████████████████████████████████| 241/241 [00:07<00:00, 30.57it/s]"
     ]
    },
    {
     "name": "stdout",
     "output_type": "stream",
     "text": [
      "文件保存至: /home/yeli/workspace/lard/lard-detection/results/videos/output-track-path.mp4 文件大小: 15.58 MB\n"
     ]
    },
    {
     "name": "stderr",
     "output_type": "stream",
     "text": [
      "\n"
     ]
    }
   ],
   "source": [
    "from collections import defaultdict\n",
    "from tqdm import tqdm\n",
    "import cv2\n",
    "import numpy as np\n",
    "\n",
    "# 加载模型\n",
    "model = YOLO(path_best_model)\n",
    "\n",
    "# 打开原始视频\n",
    "cap = cv2.VideoCapture(path_video)\n",
    "\n",
    "# 创建VideoWriter对象\n",
    "path_output = f'{ROOT_PROJECT}/results/videos/output-track-path.mp4'\n",
    "out = cv2.VideoWriter(path_output, fourcc, frame_rate, (frame_width, frame_height))\n",
    "\n",
    "# 存储追踪历史\n",
    "track_history = defaultdict(lambda: [])\n",
    "\n",
    "# 初始化进度条\n",
    "with tqdm(total=total_frames, desc=\"处理进度\", ncols=100) as pbar:\n",
    "    # 遍历视频\n",
    "    while cap.isOpened():\n",
    "        success, frame = cap.read()\n",
    "        if success:\n",
    "            results = model.track(frame, persist=True, verbose=False)\n",
    "            \n",
    "            # 如果检测到并追踪到目标\n",
    "            if results[0].boxes.xywh is not None and results[0].boxes.id is not None:\n",
    "\n",
    "                # 获取boxes和追踪track IDs\n",
    "                boxes = results[0].boxes.xywh.cpu()\n",
    "                track_ids = results[0].boxes.id.int().cpu().tolist()\n",
    "\n",
    "                # 带有追踪结果的图像\n",
    "                frame = results[0].plot()\n",
    "\n",
    "                # 绘制轨迹\n",
    "                for box, track_id in zip(boxes, track_ids):\n",
    "                    x, y, w, h = box\n",
    "                    track = track_history[track_id]  # track_id的历史轨迹\n",
    "                    # 追加新跟踪到的点 x, y center point\n",
    "                    track.append((float(x), float(y)))\n",
    "                    if len(track) > 30:  # 为每个目标保留30个历史轨迹\n",
    "                        track.pop(0)\n",
    "\n",
    "                    # 画出轨迹线\n",
    "                    points = np.hstack(track).astype(\n",
    "                        np.int32).reshape((-1, 1, 2))\n",
    "                    cv2.polylines(frame, [points], isClosed=False, color=(0, 255, 255), thickness=10)\n",
    "                frame = cv2.resize(frame, (frame_width, frame_height))\n",
    "                out.write(frame)\n",
    "\n",
    "            # 检测到但没有追踪到目标\n",
    "            elif results[0].boxes.xywh is not None:\n",
    "                frame = results[0].plot()\n",
    "                frame = cv2.resize(frame, (frame_width, frame_height))\n",
    "                out.write(frame)\n",
    "\n",
    "            # 没有检测到也没有追踪到\n",
    "            else:\n",
    "                frame = cv2.resize(\n",
    "                    frame, (frame_width, frame_height))\n",
    "                out.write(frame)\n",
    "            pbar.update(1)\n",
    "        else:\n",
    "            break\n",
    "\n",
    "# 释放资源\n",
    "cap.release()\n",
    "out.release()\n",
    "\n",
    "# 文件尺寸计算\n",
    "file_size = os.path.getsize(path_output) / (1024 ** 2)\n",
    "print(f\"文件保存至: {path_output} 文件大小: {file_size:.2f} MB\")"
   ]
  }
 ],
 "metadata": {
  "kernelspec": {
   "display_name": "pytorch-gpu",
   "language": "python",
   "name": "python3"
  },
  "language_info": {
   "codemirror_mode": {
    "name": "ipython",
    "version": 3
   },
   "file_extension": ".py",
   "mimetype": "text/x-python",
   "name": "python",
   "nbconvert_exporter": "python",
   "pygments_lexer": "ipython3",
   "version": "3.9.7"
  }
 },
 "nbformat": 4,
 "nbformat_minor": 2
}
