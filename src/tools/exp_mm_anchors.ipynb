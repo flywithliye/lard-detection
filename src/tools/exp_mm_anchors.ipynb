{
 "cells": [
  {
   "cell_type": "code",
   "execution_count": 1,
   "metadata": {},
   "outputs": [
    {
     "name": "stdout",
     "output_type": "stream",
     "text": [
      "/fileonssd/lard-dataset\n",
      "/home/yeli/workspace/lard/lard-detection\n"
     ]
    }
   ],
   "source": [
    "import os\n",
    "\n",
    "ROOT_DATA = os.environ.get('LARD_DATA_ROOT_PATH')\n",
    "ROOT_PROJECT = os.environ.get('LARD_PROJECT_ROOT_PATH')\n",
    "\n",
    "print(ROOT_DATA)\n",
    "print(ROOT_PROJECT)\n"
   ]
  },
  {
   "cell_type": "markdown",
   "metadata": {},
   "source": [
    "# Yolov3\n",
    "## 计算"
   ]
  },
  {
   "cell_type": "code",
   "execution_count": 3,
   "metadata": {},
   "outputs": [
    {
     "name": "stdout",
     "output_type": "stream",
     "text": [
      "img_shape=608\n",
      "loading annotations into memory...\n",
      "Done (t=0.04s)\n",
      "creating index...\n",
      "index created!\n",
      "03/24 19:53:57 - mmengine - \u001b[4m\u001b[97mINFO\u001b[0m - Collecting bboxes from annotation...\n",
      "[>>>>>>>>>>>>>>>>>>>>>>>] 11544/11544, 56852.6 task/s, elapsed: 0s, ETA:     0s\n",
      "\n",
      "03/24 19:53:57 - mmengine - \u001b[4m\u001b[97mINFO\u001b[0m - Collected 11544 bboxes.\n",
      "03/24 19:53:57 - mmengine - \u001b[4m\u001b[97mINFO\u001b[0m - Start cluster 9 YOLO anchors with K-means...\n",
      "[>>>>                        ] 148/1000, 607.5 task/s, elapsed: 0s, ETA:     1s03/24 19:53:58 - mmengine - \u001b[4m\u001b[97mINFO\u001b[0m - K-means process has converged at iter 148.\n",
      "\n",
      "\n",
      "03/24 19:53:58 - mmengine - \u001b[4m\u001b[97mINFO\u001b[0m - Anchor cluster finish. Average IOU: 0.7239604592323303\n",
      "03/24 19:53:58 - mmengine - \u001b[4m\u001b[97mINFO\u001b[0m - Anchor optimize result:[[9, 14], [18, 17], [24, 29], [37, 20], [43, 38], [69, 48], [109, 70], [182, 104], [332, 173]]\n",
      "03/24 19:53:58 - mmengine - \u001b[4m\u001b[97mINFO\u001b[0m - Result saved in results/tables/anchors/anchor_optimize_result_yolov3_608.json\n",
      "img_shape=1280\n",
      "loading annotations into memory...\n",
      "Done (t=0.04s)\n",
      "creating index...\n",
      "index created!\n",
      "03/24 19:54:01 - mmengine - \u001b[4m\u001b[97mINFO\u001b[0m - Collecting bboxes from annotation...\n",
      "[>>>>>>>>>>>>>>>>>>>>>>>] 11544/11544, 55151.9 task/s, elapsed: 0s, ETA:     0s\n",
      "\n",
      "03/24 19:54:02 - mmengine - \u001b[4m\u001b[97mINFO\u001b[0m - Collected 11544 bboxes.\n",
      "03/24 19:54:02 - mmengine - \u001b[4m\u001b[97mINFO\u001b[0m - Start cluster 9 YOLO anchors with K-means...\n",
      "[>                            ] 68/1000, 450.2 task/s, elapsed: 0s, ETA:     2s03/24 19:54:02 - mmengine - \u001b[4m\u001b[97mINFO\u001b[0m - K-means process has converged at iter 68.\n",
      "\n",
      "\n",
      "03/24 19:54:02 - mmengine - \u001b[4m\u001b[97mINFO\u001b[0m - Anchor cluster finish. Average IOU: 0.7256604433059692\n",
      "03/24 19:54:02 - mmengine - \u001b[4m\u001b[97mINFO\u001b[0m - Anchor optimize result:[[19, 29], [37, 37], [49, 60], [75, 41], [88, 77], [143, 100], [227, 145], [381, 218], [697, 363]]\n",
      "03/24 19:54:02 - mmengine - \u001b[4m\u001b[97mINFO\u001b[0m - Result saved in results/tables/anchors/anchor_optimize_result_yolov3_1280.json\n"
     ]
    }
   ],
   "source": [
    "for img_shape in [608, 1280]:\n",
    "    \n",
    "    print(f\"{img_shape=}\")\n",
    "    cfg_path = f'{ROOT_PROJECT}/cfg/mmdet/yolov3_{img_shape}.py'\n",
    "    path_anchor = f'{ROOT_PROJECT}/results/tables/anchors/anchor_optimize_result_yolov3_{img_shape}.json'\n",
    "\n",
    "    ! python {ROOT_PROJECT}/3rdparty/mmdetection/tools/analysis_tools/optimize_anchors.py \\\n",
    "        {cfg_path} \\\n",
    "        --device cuda:0 \\\n",
    "        --input-shape {img_shape} {img_shape} \\\n",
    "        --algorithm k-means \\\n",
    "        --output-dir {path_anchor}"
   ]
  },
  {
   "cell_type": "markdown",
   "metadata": {},
   "source": [
    "## 可视化"
   ]
  },
  {
   "cell_type": "code",
   "execution_count": 13,
   "metadata": {},
   "outputs": [
    {
     "name": "stdout",
     "output_type": "stream",
     "text": [
      "img_shape=608\n",
      "原始输出: [[9, 14], [18, 17], [24, 29], [37, 20], [43, 38], [69, 48], [109, 70], [182, 104], [332, 173]]\n",
      "可复制格式: \n",
      "[(109, 70), (182, 104), (332, 173)],\n",
      "[(37, 20), (43, 38), (69, 48)],\n",
      "[(9, 14), (18, 17), (24, 29)]\n",
      "\n",
      "img_shape=1280\n",
      "原始输出: [[19, 29], [37, 37], [49, 60], [75, 41], [88, 77], [143, 100], [227, 145], [381, 218], [697, 363]]\n",
      "可复制格式: \n",
      "[(227, 145), (381, 218), (697, 363)],\n",
      "[(75, 41), (88, 77), (143, 100)],\n",
      "[(19, 29), (37, 37), (49, 60)]\n",
      "\n"
     ]
    }
   ],
   "source": [
    "import json\n",
    "\n",
    "for img_shape in [608, 1280]:\n",
    "    \n",
    "    print(f\"{img_shape=}\")\n",
    "    path_anchor = f'{ROOT_PROJECT}/results/tables/anchors/anchor_optimize_result_yolov3_{img_shape}.json'\n",
    "\n",
    "    output = []\n",
    "    with open(path_anchor, 'r') as f:\n",
    "        anchors = json.load(f)\n",
    "        for anchor in anchors:\n",
    "            output.append(tuple(anchor))\n",
    "    print(f\"原始输出: {anchors}\")\n",
    "\n",
    "    # 转换为可复制的格式(由大到小)\n",
    "    print(\"可复制格式: \")\n",
    "    print(f\"{output[0+6:3+6]},\")\n",
    "    print(f\"{output[0+3:3+3]},\")\n",
    "    print(output[0:3], end='\\n\\n')"
   ]
  },
  {
   "cell_type": "markdown",
   "metadata": {},
   "source": [
    "# Yolov5 & Yolov7\n",
    "## 计算"
   ]
  },
  {
   "cell_type": "code",
   "execution_count": 5,
   "metadata": {},
   "outputs": [
    {
     "name": "stdout",
     "output_type": "stream",
     "text": [
      "img_shape=640\n",
      "loading annotations into memory...\n",
      "Done (t=0.04s)\n",
      "creating index...\n",
      "index created!\n",
      "03/24 20:00:00 - mmengine - \u001b[4m\u001b[97mINFO\u001b[0m - Collecting bboxes from annotation...\n",
      "[>>>>>>>>>>>>>>>>>>>>>>>] 11544/11544, 57999.8 task/s, elapsed: 0s, ETA:     0s\n",
      "\n",
      "03/24 20:00:01 - mmengine - \u001b[4m\u001b[97mINFO\u001b[0m - Collected 11544 bboxes.\n",
      "03/24 20:00:01 - mmengine - \u001b[4m\u001b[97mINFO\u001b[0m - Start cluster 9 YOLOv5 anchors with K-means...\n",
      "03/24 20:00:01 - mmengine - \u001b[4m\u001b[97mINFO\u001b[0m - beginning init anchors with scipy kmeans method\n",
      "03/24 20:00:02 - mmengine - \u001b[4m\u001b[97mINFO\u001b[0m - init done, beginning evolve anchors...\n",
      "[>>>>>>>>>>>>>>>>>>>>>>>>>>] 1000/1000, 2829.5 task/s, elapsed: 0s, ETA:     0s\n",
      "\n",
      "03/24 20:00:03 - mmengine - \u001b[4m\u001b[97mINFO\u001b[0m - Anchor cluster finish. fitness = 0.7965\n",
      "03/24 20:00:03 - mmengine - \u001b[4m\u001b[97mINFO\u001b[0m - 5.71 anchors/target 1.000 Best Possible Recall (BPR). \n",
      "03/24 20:00:03 - mmengine - \u001b[4m\u001b[97mINFO\u001b[0m - Anchor optimize result:[[(9, 14), (16, 16), (18, 26)], [(28, 19), (33, 35), (54, 43)], [(95, 66), (168, 94), (325, 165)]]\n",
      "03/24 20:00:03 - mmengine - \u001b[4m\u001b[97mINFO\u001b[0m - Result saved in results/tables/anchors/anchor_optimize_result_yolov5_v7_640.json\n",
      "img_shape=1280\n",
      "loading annotations into memory...\n",
      "Done (t=0.04s)\n",
      "creating index...\n",
      "index created!\n",
      "03/24 20:00:07 - mmengine - \u001b[4m\u001b[97mINFO\u001b[0m - Collecting bboxes from annotation...\n",
      "[>>>>>>>>>>>>>>>>>>>>>>>] 11544/11544, 55530.4 task/s, elapsed: 0s, ETA:     0s\n",
      "\n",
      "03/24 20:00:07 - mmengine - \u001b[4m\u001b[97mINFO\u001b[0m - Collected 11544 bboxes.\n",
      "03/24 20:00:07 - mmengine - \u001b[4m\u001b[97mINFO\u001b[0m - Start cluster 9 YOLOv5 anchors with K-means...\n",
      "03/24 20:00:07 - mmengine - \u001b[4m\u001b[97mINFO\u001b[0m - beginning init anchors with scipy kmeans method\n",
      "03/24 20:00:08 - mmengine - \u001b[4m\u001b[97mINFO\u001b[0m - init done, beginning evolve anchors...\n",
      "[>>>>>>>>>>>>>>>>>>>>>>>>>>] 1000/1000, 3125.9 task/s, elapsed: 0s, ETA:     0s\n",
      "\n",
      "03/24 20:00:09 - mmengine - \u001b[4m\u001b[97mINFO\u001b[0m - Anchor cluster finish. fitness = 0.7937\n",
      "03/24 20:00:09 - mmengine - \u001b[4m\u001b[97mINFO\u001b[0m - 5.56 anchors/target 1.000 Best Possible Recall (BPR). \n",
      "03/24 20:00:09 - mmengine - \u001b[4m\u001b[97mINFO\u001b[0m - Anchor optimize result:[[(18, 28), (30, 34), (55, 35)], [(43, 56), (78, 68), (130, 96)], [(215, 143), (345, 199), (619, 335)]]\n",
      "03/24 20:00:09 - mmengine - \u001b[4m\u001b[97mINFO\u001b[0m - Result saved in results/tables/anchors/anchor_optimize_result_yolov5_v7_1280.json\n"
     ]
    }
   ],
   "source": [
    "for img_shape in [640, 1280]:\n",
    "    \n",
    "    print(f\"{img_shape=}\")\n",
    "    cfg_path = f'{ROOT_PROJECT}/cfg/mmyolo/yolov5n_{img_shape}.py'\n",
    "    path_anchor = f'{ROOT_PROJECT}/results/tables/anchors/anchor_optimize_result_yolov5_v7_{img_shape}.json'\n",
    "\n",
    "    ! python {ROOT_PROJECT}/3rdparty/mmyolo/tools/analysis_tools/optimize_anchors.py \\\n",
    "        {cfg_path} \\\n",
    "        --device cuda:0 \\\n",
    "        --input-shape {img_shape} {img_shape} \\\n",
    "        --algorithm v5-k-means \\\n",
    "        --out-dir {path_anchor}"
   ]
  },
  {
   "cell_type": "markdown",
   "metadata": {},
   "source": [
    "## 可视化"
   ]
  },
  {
   "cell_type": "code",
   "execution_count": 12,
   "metadata": {},
   "outputs": [
    {
     "name": "stdout",
     "output_type": "stream",
     "text": [
      "img_shape=640\n",
      "原始输出: [[[9, 14], [16, 16], [18, 26]], [[28, 19], [33, 35], [54, 43]], [[95, 66], [168, 94], [325, 165]]]\n",
      "可复制格式: \n",
      "[[9, 14], [16, 16], [18, 26]],\n",
      "[[28, 19], [33, 35], [54, 43]],\n",
      "[[95, 66], [168, 94], [325, 165]]\n",
      "\n",
      "img_shape=1280\n",
      "原始输出: [[[18, 28], [30, 34], [55, 35]], [[43, 56], [78, 68], [130, 96]], [[215, 143], [345, 199], [619, 335]]]\n",
      "可复制格式: \n",
      "[[18, 28], [30, 34], [55, 35]],\n",
      "[[43, 56], [78, 68], [130, 96]],\n",
      "[[215, 143], [345, 199], [619, 335]]\n",
      "\n"
     ]
    }
   ],
   "source": [
    "import json\n",
    "\n",
    "for img_shape in [640, 1280]:\n",
    "    \n",
    "    print(f\"{img_shape=}\")\n",
    "    path_anchor = f'{ROOT_PROJECT}/results/tables/anchors/anchor_optimize_result_yolov5_v7_{img_shape}.json'\n",
    "\n",
    "    with open(path_anchor, 'r') as f:\n",
    "        anchors = json.load(f)\n",
    "        print(f\"原始输出: {anchors}\")\n",
    "\n",
    "        print(\"可复制格式: \")\n",
    "        print(f\"{anchors[0]},\")\n",
    "        print(f\"{anchors[1]},\")\n",
    "        print(anchors[2], end='\\n\\n')"
   ]
  }
 ],
 "metadata": {
  "kernelspec": {
   "display_name": "lard",
   "language": "python",
   "name": "python3"
  },
  "language_info": {
   "codemirror_mode": {
    "name": "ipython",
    "version": 3
   },
   "file_extension": ".py",
   "mimetype": "text/x-python",
   "name": "python",
   "nbconvert_exporter": "python",
   "pygments_lexer": "ipython3",
   "version": "3.9.7"
  }
 },
 "nbformat": 4,
 "nbformat_minor": 2
}
