{
 "cells": [
  {
   "cell_type": "markdown",
   "metadata": {},
   "source": [
    "# Fiftyone "
   ]
  },
  {
   "cell_type": "code",
   "execution_count": null,
   "metadata": {},
   "outputs": [],
   "source": [
    "import fiftyone as fo\n",
    "all_datasets = fo.list_datasets()\n",
    "for dataset in all_datasets:\n",
    "    print(dataset)\n",
    "\n",
    "if all_datasets:\n",
    "    dataset = fo.load_dataset(\"lard_test_real_edge\")\n",
    "    print(dataset.get_field_schema().keys())"
   ]
  },
  {
   "cell_type": "code",
   "execution_count": null,
   "metadata": {},
   "outputs": [],
   "source": [
    "session = fo.launch_app(dataset)\n",
    "# session.close()"
   ]
  },
  {
   "cell_type": "code",
   "execution_count": null,
   "metadata": {},
   "outputs": [],
   "source": [
    "from utils.database import delete_all_predictions\n",
    "    \n",
    "for name in all_datasets:\n",
    "    dataset = fo.load_dataset(name)\n",
    "    delete_all_predictions(dataset)"
   ]
  },
  {
   "cell_type": "code",
   "execution_count": null,
   "metadata": {},
   "outputs": [],
   "source": [
    "from src.utils.database import eval_detections_in_database\n",
    "\n",
    "all_results = eval_detections_in_database('yolov8n-p2_train_val')\n",
    "\n",
    "for datatype, results in all_results.items():\n",
    "    plot_pr = results.plot_pr_curves()\n",
    "    display(plot_pr)\n",
    "for datatype, results in all_results.items():\n",
    "    plot_mat = results.plot_confusion_matrix()\n",
    "    display(plot_mat)\n"
   ]
  }
 ],
 "metadata": {
  "kernelspec": {
   "display_name": "pytorch-gpu",
   "language": "python",
   "name": "python3"
  },
  "language_info": {
   "codemirror_mode": {
    "name": "ipython",
    "version": 3
   },
   "file_extension": ".py",
   "mimetype": "text/x-python",
   "name": "python",
   "nbconvert_exporter": "python",
   "pygments_lexer": "ipython3",
   "version": "3.9.7"
  }
 },
 "nbformat": 4,
 "nbformat_minor": 2
}
