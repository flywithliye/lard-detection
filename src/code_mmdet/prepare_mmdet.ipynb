{
 "cells": [
  {
   "cell_type": "markdown",
   "metadata": {},
   "source": [
    "# 向mmdet框架内写入LARD数据集定义"
   ]
  },
  {
   "cell_type": "code",
   "execution_count": 8,
   "metadata": {},
   "outputs": [],
   "source": [
    "# 复制LardDataset类定义\n",
    "! cp ./src/lard.py ./mmdetection/mmdet/datasets/lard.py\n",
    "# 复制datasets初始化\n",
    "! cp ./src/init_dataset.py ./mmdetection/mmdet/datasets/__init__.py\n",
    "# 复制functional初始化\n",
    "! cp ./src/init_functional.py ./mmdetection/mmdet/evaluation/functional/__init__.py\n",
    "# 复制class_names定义\n",
    "! cp ./src/class_names.py ./mmdetection/mmdet/evaluation/functional/class_names.py"
   ]
  },
  {
   "cell_type": "markdown",
   "metadata": {},
   "source": [
    "# 创建数据集链接"
   ]
  },
  {
   "cell_type": "code",
   "execution_count": null,
   "metadata": {},
   "outputs": [],
   "source": [
    "# 链接数据集\n",
    "! ln -s /home/yeli/workspace/yolov8/datasets/ ./datasets"
   ]
  }
 ],
 "metadata": {
  "kernelspec": {
   "display_name": "pytorch-gpu",
   "language": "python",
   "name": "python3"
  },
  "language_info": {
   "codemirror_mode": {
    "name": "ipython",
    "version": 3
   },
   "file_extension": ".py",
   "mimetype": "text/x-python",
   "name": "python",
   "nbconvert_exporter": "python",
   "pygments_lexer": "ipython3",
   "version": "3.9.7"
  }
 },
 "nbformat": 4,
 "nbformat_minor": 2
}
