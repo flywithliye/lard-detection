{
 "cells": [
  {
   "cell_type": "markdown",
   "metadata": {},
   "source": [
    "# 向mmdet框架内写入LARD数据集定义"
   ]
  },
  {
   "cell_type": "code",
   "execution_count": 2,
   "metadata": {},
   "outputs": [
    {
     "name": "stdout",
     "output_type": "stream",
     "text": [
      "/home/yeli/Nextcloud/lard/yolov8\n"
     ]
    }
   ],
   "source": [
    "import os\n",
    "ROOT_PROJECT = os.environ.get('LARD_YOLO_ROOT_PATH')\n",
    "print(ROOT_PROJECT)"
   ]
  },
  {
   "cell_type": "code",
   "execution_count": 4,
   "metadata": {},
   "outputs": [],
   "source": [
    "# # 备份原始文件 仅执行一次\n",
    "# ! cp {ROOT_PROJECT}/3rdparty/mmdetection/mmdet/datasets/__init__.py ./backup\n",
    "# ! cp {ROOT_PROJECT}/3rdparty/mmdetection/mmdet/evaluation/functional/__init__.py ./backup\n",
    "# ! cp {ROOT_PROJECT}/3rdparty/mmdetection/mmdet/evaluation/functional/class_names.py ./backup\n"
   ]
  },
  {
   "cell_type": "code",
   "execution_count": 3,
   "metadata": {},
   "outputs": [],
   "source": [
    "# 复制LardDataset类定义\n",
    "! cp lard.py {ROOT_PROJECT}/3rdparty/mmdetection/mmdet/datasets/lard.py\n",
    "# 复制datasets初始化\n",
    "! cp init_dataset.py {ROOT_PROJECT}/3rdparty/mmdetection/mmdet/datasets/__init__.py\n",
    "# 复制functional初始化\n",
    "! cp init_functional.py {ROOT_PROJECT}/3rdparty/mmdetection/mmdet/evaluation/functional/__init__.py\n",
    "# 复制class_names定义\n",
    "! cp class_names.py {ROOT_PROJECT}/3rdparty/mmdetection/mmdet/evaluation/functional/class_names.py\n"
   ]
  }
 ],
 "metadata": {
  "kernelspec": {
   "display_name": "pytorch-gpu",
   "language": "python",
   "name": "python3"
  },
  "language_info": {
   "codemirror_mode": {
    "name": "ipython",
    "version": 3
   },
   "file_extension": ".py",
   "mimetype": "text/x-python",
   "name": "python",
   "nbconvert_exporter": "python",
   "pygments_lexer": "ipython3",
   "version": "3.9.7"
  }
 },
 "nbformat": 4,
 "nbformat_minor": 2
}
