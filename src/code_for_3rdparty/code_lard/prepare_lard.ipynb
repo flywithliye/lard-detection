{
 "cells": [
  {
   "cell_type": "code",
   "execution_count": 1,
   "metadata": {},
   "outputs": [
    {
     "name": "stdout",
     "output_type": "stream",
     "text": [
      "/home/yeli/workspace/lard/lard-detection\n"
     ]
    }
   ],
   "source": [
    "import os\n",
    "ROOT_PROJECT = os.environ.get('LARD_PROJECT_ROOT_PATH')\n",
    "print(ROOT_PROJECT)"
   ]
  },
  {
   "cell_type": "code",
   "execution_count": null,
   "metadata": {},
   "outputs": [],
   "source": [
    "# 备份原始文件 仅执行一次\n",
    "# ! cp {ROOT_PROJECT}/src/data/LARD/src/dataset/lard_dataset.py ./backup\n",
    "# ! cp {ROOT_PROJECT}/src/data/LARD/src/labeling/labels.py ./backup"
   ]
  },
  {
   "cell_type": "code",
   "execution_count": null,
   "metadata": {},
   "outputs": [],
   "source": [
    "# 复制lard_dataset.py\n",
    "! cp lard_dataset.py {ROOT_PROJECT}/src/data/LARD/src/dataset/lard_dataset.py\n",
    "# labels.py\n",
    "! cp labels.py {ROOT_PROJECT}/src/data/LARD/src/labeling/labels.py"
   ]
  }
 ],
 "metadata": {
  "kernelspec": {
   "display_name": "lard",
   "language": "python",
   "name": "python3"
  },
  "language_info": {
   "codemirror_mode": {
    "name": "ipython",
    "version": 3
   },
   "file_extension": ".py",
   "mimetype": "text/x-python",
   "name": "python",
   "nbconvert_exporter": "python",
   "pygments_lexer": "ipython3",
   "version": "3.9.7"
  }
 },
 "nbformat": 4,
 "nbformat_minor": 2
}
