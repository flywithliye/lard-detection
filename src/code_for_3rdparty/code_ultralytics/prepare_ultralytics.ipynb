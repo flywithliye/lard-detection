{
 "cells": [
  {
   "cell_type": "markdown",
   "metadata": {},
   "source": [
    "# 向ultralytics框架内写入新定义的默认配置文件和数据增强代码"
   ]
  },
  {
   "cell_type": "code",
   "execution_count": 1,
   "metadata": {},
   "outputs": [
    {
     "name": "stdout",
     "output_type": "stream",
     "text": [
      "/home/yeli/workspace/lard/lard-detection\n"
     ]
    }
   ],
   "source": [
    "import os\n",
    "ROOT_PROJECT = os.environ.get('LARD_PROJECT_ROOT_PATH')\n",
    "print(ROOT_PROJECT)"
   ]
  },
  {
   "cell_type": "code",
   "execution_count": 2,
   "metadata": {},
   "outputs": [],
   "source": [
    "# 备份原始文件 仅执行一次\n",
    "# ! cp {ROOT_PROJECT}/3rdparty/ultralytics/ultralytics/cfg/default.yaml ./backup\n",
    "# ! cp {ROOT_PROJECT}/3rdparty/ultralytics/ultralytics/data/augment.py ./backup"
   ]
  },
  {
   "cell_type": "code",
   "execution_count": 2,
   "metadata": {},
   "outputs": [],
   "source": [
    "# 覆盖新文件\n",
    "! cp default.yaml {ROOT_PROJECT}/3rdparty/ultralytics/ultralytics/cfg/\n",
    "! cp augment.py {ROOT_PROJECT}/3rdparty/ultralytics/ultralytics/data/"
   ]
  }
 ],
 "metadata": {
  "kernelspec": {
   "display_name": "pytorch-gpu",
   "language": "python",
   "name": "python3"
  },
  "language_info": {
   "codemirror_mode": {
    "name": "ipython",
    "version": 3
   },
   "file_extension": ".py",
   "mimetype": "text/x-python",
   "name": "python",
   "nbconvert_exporter": "python",
   "pygments_lexer": "ipython3",
   "version": "3.9.7"
  }
 },
 "nbformat": 4,
 "nbformat_minor": 2
}
