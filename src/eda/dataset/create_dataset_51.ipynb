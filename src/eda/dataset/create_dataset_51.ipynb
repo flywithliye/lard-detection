{
 "cells": [
  {
   "cell_type": "code",
   "execution_count": 1,
   "metadata": {},
   "outputs": [
    {
     "name": "stdout",
     "output_type": "stream",
     "text": [
      "['lard_test_real_edge', 'lard_test_real_nominal', 'lard_test_synth', 'lard_train', 'lard_train_all', 'lard_val']\n"
     ]
    }
   ],
   "source": [
    "import fiftyone as fo\n",
    "\n",
    "print(fo.list_datasets())"
   ]
  },
  {
   "cell_type": "code",
   "execution_count": 2,
   "metadata": {},
   "outputs": [],
   "source": [
    "import fiftyone as fo\n",
    "\n",
    "# 获取所有数据集名称\n",
    "all_datasets = fo.list_datasets()\n",
    "\n",
    "# 删除所有数据集\n",
    "for dataset_name in all_datasets:\n",
    "    fo.delete_dataset(dataset_name)"
   ]
  },
  {
   "cell_type": "code",
   "execution_count": 3,
   "metadata": {},
   "outputs": [
    {
     "name": "stdout",
     "output_type": "stream",
     "text": [
      "正在创建: train_all\n",
      " 100% |█████████████| 14433/14433 [16.3s elapsed, 0s remaining, 758.1 samples/s]      \n",
      "Computing metadata...\n",
      " 100% |█████████████| 14433/14433 [2.0m elapsed, 0s remaining, 115.4 samples/s]      \n",
      "正在创建: train\n",
      " 100% |█████████████| 11546/11546 [12.8s elapsed, 0s remaining, 900.3 samples/s]      \n",
      "Computing metadata...\n",
      " 100% |█████████████| 11546/11546 [17.8s elapsed, 0s remaining, 735.4 samples/s]      \n",
      "正在创建: val\n",
      " 100% |███████████████| 2887/2887 [3.2s elapsed, 0s remaining, 899.6 samples/s]      \n",
      "Computing metadata...\n",
      " 100% |███████████████| 2887/2887 [4.4s elapsed, 0s remaining, 735.9 samples/s]       \n",
      "正在创建: test_synth\n",
      " 100% |███████████████| 2212/2212 [2.5s elapsed, 0s remaining, 909.1 samples/s]      \n",
      "Computing metadata...\n",
      " 100% |███████████████| 2212/2212 [12.9s elapsed, 0s remaining, 163.8 samples/s]      \n",
      "正在创建: test_real_nominal\n",
      " 100% |███████████████| 1500/1500 [1.7s elapsed, 0s remaining, 874.2 samples/s]         \n",
      "Computing metadata...\n",
      " 100% |███████████████| 1500/1500 [10.4s elapsed, 0s remaining, 140.2 samples/s]      \n",
      "正在创建: test_real_edge\n",
      " 100% |█████████████████| 311/311 [354.7ms elapsed, 0s remaining, 876.9 samples/s]      \n",
      "Computing metadata...\n",
      " 100% |█████████████████| 311/311 [1.7s elapsed, 0s remaining, 176.1 samples/s]         \n"
     ]
    }
   ],
   "source": [
    "for data_type in ['train_all', 'train', 'val', 'test_synth', 'test_real_nominal', 'test_real_edge']:\n",
    "\n",
    "    print(f'正在创建: {data_type}')\n",
    "\n",
    "    # 构造数据集\n",
    "    dataset = fo.Dataset.from_dir(\n",
    "        dataset_type=fo.types.COCODetectionDataset,\n",
    "        data_path=f\"./../../datasets/lard/YoloFormat/{data_type}/images\",\n",
    "        labels_path=f\"./../../datasets/lard/annotations/instances_{data_type}.json\",\n",
    "        label_field=\"ground_truth\",\n",
    "        name=f\"lard_{data_type}\"\n",
    "    )\n",
    "\n",
    "    # 计算元数据（较耗时）\n",
    "    dataset.compute_metadata(overwrite=True, num_workers=12)"
   ]
  }
 ],
 "metadata": {
  "kernelspec": {
   "display_name": "pytorch-gpu",
   "language": "python",
   "name": "python3"
  },
  "language_info": {
   "codemirror_mode": {
    "name": "ipython",
    "version": 3
   },
   "file_extension": ".py",
   "mimetype": "text/x-python",
   "name": "python",
   "nbconvert_exporter": "python",
   "pygments_lexer": "ipython3",
   "version": "3.9.7"
  }
 },
 "nbformat": 4,
 "nbformat_minor": 2
}
