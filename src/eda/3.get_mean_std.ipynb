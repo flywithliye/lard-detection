{
 "cells": [
  {
   "cell_type": "markdown",
   "metadata": {},
   "source": [
    "# Calculate the mean and std for training dataset\n",
    "# 计算训练集图像均值&方差"
   ]
  },
  {
   "cell_type": "markdown",
   "metadata": {},
   "source": [
    "$$\n",
    "\\text{Average Mean} = \\frac{{\\mu_1 + \\mu_2 + \\ldots + \\mu_N}}{N}\n",
    "$$\n",
    "\n",
    "$$\n",
    "\\text{Average Variance} = \\frac{{\\sigma_1^2 + \\sigma_2^2 + \\ldots + \\sigma_N^2}}{N}\n",
    "$$\n",
    "$$\n",
    "\\text{Overall Standard Deviation} = \\sqrt{\\text{Average Variance}}\n",
    "$$\n"
   ]
  },
  {
   "cell_type": "code",
   "execution_count": 1,
   "metadata": {},
   "outputs": [
    {
     "name": "stdout",
     "output_type": "stream",
     "text": [
      "/home/yeli/workspace/lard/lard-dataset\n",
      "/home/yeli/workspace/lard/lard-detection\n",
      "路径(/home/yeli/workspace/lard/lard-dataset/YoloFormat/train/images)下包括文件数量: 12989\n",
      "开始计算\n"
     ]
    },
    {
     "name": "stderr",
     "output_type": "stream",
     "text": [
      "100%|█████████████████████████████████████████████████████████| 12989/12989 [06:55<00:00, 31.29it/s]"
     ]
    },
    {
     "name": "stdout",
     "output_type": "stream",
     "text": [
      "total_mean=array([121.97881021, 141.08208522, 164.55199028])\n",
      "total_std=array([46.94337701, 54.84993929, 70.40161638])\n"
     ]
    },
    {
     "name": "stderr",
     "output_type": "stream",
     "text": [
      "\n"
     ]
    }
   ],
   "source": [
    "from PIL import Image\n",
    "import os\n",
    "import numpy as np\n",
    "from concurrent.futures import ThreadPoolExecutor\n",
    "from tqdm import tqdm\n",
    "from concurrent.futures import as_completed\n",
    "\n",
    "\n",
    "ROOT_DATA = os.environ.get('LARD_DATA_ROOT_PATH')\n",
    "ROOT_PROJECT = os.environ.get('LARD_PROJECT_ROOT_PATH')\n",
    "\n",
    "print(ROOT_DATA)\n",
    "print(ROOT_PROJECT)\n",
    "\n",
    "\n",
    "def compute_mean_std(image_path):\n",
    "    # func for calculating mean and std 定义计算均值和标准差的函数\n",
    "    img = Image.open(image_path)\n",
    "    img_array = np.array(img)\n",
    "    mean = np.mean(img_array, axis=(0, 1))\n",
    "    std = np.std(img_array, axis=(0, 1))\n",
    "    return mean, std\n",
    "\n",
    "\n",
    "# init 初始化变量\n",
    "total_mean = np.zeros(3)\n",
    "total_std = np.zeros(3)\n",
    "total_images = 0\n",
    "\n",
    "# path to training set images 训练集图片路径\n",
    "path_train_images = f'{ROOT_DATA}/YoloFormat/train/images' # the train after train_val_split, train_val_split之后的train\n",
    "print(f\"Path ({path_train_images}) contain files: {len(os.listdir(path_train_images))}\")\n",
    "\n",
    "# all the jpeg paths, 所有JPEG文件路径\n",
    "jpeg_files = [os.path.join(path_train_images, f) for f in os.listdir(\n",
    "    path_train_images) if f.endswith('.jpeg')]\n",
    "\n",
    "print(\"Start\")\n",
    "# using multi thread to accelerate 使用多线程来加速计算\n",
    "with ThreadPoolExecutor() as executor:\n",
    "    # 使用 map 返回结果的 future 列表\n",
    "    futures = [executor.submit(compute_mean_std, file) for file in jpeg_files]\n",
    "    \n",
    "    # tqdm, 使用 tqdm 创建进度条\n",
    "    for future in tqdm(as_completed(futures), total=len(jpeg_files), ncols=100):\n",
    "        mean, std = future.result()\n",
    "        total_mean += mean\n",
    "        total_std += std ** 2  # get variance sum, 计算方差和\n",
    "        total_images += 1\n",
    "\n",
    "# calculate 计算整体均值和标准差\n",
    "total_mean /= total_images\n",
    "total_std = np.sqrt(total_std / total_images)  # Convert to standard deviation, 将方差和转换为标准差\n",
    "\n",
    "print(f\"{total_mean=}\")\n",
    "print(f\"{total_std=}\")"
   ]
  },
  {
   "cell_type": "code",
   "execution_count": null,
   "metadata": {},
   "outputs": [],
   "source": [
    "# train_all, cost time: 14m 5.8s\n",
    "# total_mean=array([122.02546603, 141.12094067, 164.56260058])\n",
    "# total_std=array([46.92374909, 54.82440862, 70.39951964])\n",
    "\n",
    "# train (80%), cost time: 9m 34.2s\n",
    "# total_mean=array([122.00711516, 141.11828193, 164.56574534])\n",
    "# total_std=array([46.91310377, 54.8164231 , 70.38650678])\n",
    "\n",
    "# train (90%), cost time: 6m 56.9s\n",
    "# total_mean=array([121.97881021, 141.08208522, 164.55199028])\n",
    "# total_std=array([46.94337701, 54.84993929, 70.40161638])\n"
   ]
  }
 ],
 "metadata": {
  "kernelspec": {
   "display_name": "pytorch-gpu",
   "language": "python",
   "name": "python3"
  },
  "language_info": {
   "codemirror_mode": {
    "name": "ipython",
    "version": 3
   },
   "file_extension": ".py",
   "mimetype": "text/x-python",
   "name": "python",
   "nbconvert_exporter": "python",
   "pygments_lexer": "ipython3",
   "version": "3.9.7"
  }
 },
 "nbformat": 4,
 "nbformat_minor": 2
}
