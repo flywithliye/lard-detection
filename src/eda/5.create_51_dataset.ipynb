{
 "cells": [
  {
   "cell_type": "code",
   "execution_count": 1,
   "metadata": {},
   "outputs": [
    {
     "name": "stdout",
     "output_type": "stream",
     "text": [
      "/home/yeli/workspace/lard/lard-dataset\n",
      "/home/yeli/workspace/lard/lard-detection\n"
     ]
    }
   ],
   "source": [
    "import os\n",
    "\n",
    "ROOT_DATA = os.environ.get('LARD_DATA_ROOT_PATH')\n",
    "ROOT_PROJECT = os.environ.get('LARD_PROJECT_ROOT_PATH')\n",
    "\n",
    "print(ROOT_DATA)\n",
    "print(ROOT_PROJECT)\n"
   ]
  },
  {
   "cell_type": "code",
   "execution_count": 2,
   "metadata": {},
   "outputs": [
    {
     "name": "stdout",
     "output_type": "stream",
     "text": [
      "[]\n"
     ]
    }
   ],
   "source": [
    "import fiftyone as fo\n",
    "\n",
    "# 列举所有数据集\n",
    "all_datasets = fo.list_datasets()\n",
    "print(all_datasets)"
   ]
  },
  {
   "cell_type": "code",
   "execution_count": 3,
   "metadata": {},
   "outputs": [],
   "source": [
    "# # 清空所有数据集\n",
    "# all_datasets = fo.list_datasets()\n",
    "# for dataset_name in all_datasets:\n",
    "#     fo.delete_dataset(dataset_name)"
   ]
  },
  {
   "cell_type": "code",
   "execution_count": 4,
   "metadata": {},
   "outputs": [
    {
     "name": "stdout",
     "output_type": "stream",
     "text": [
      "正在创建: train_all\n"
     ]
    },
    {
     "name": "stdout",
     "output_type": "stream",
     "text": [
      " 100% |█████████████| 14433/14433 [13.3s elapsed, 0s remaining, 1.1K samples/s]       \n",
      "Computing metadata...\n",
      " 100% |█████████████| 14433/14433 [59.6s elapsed, 0s remaining, 249.7 samples/s]      \n",
      "正在创建: train\n",
      " 100% |█████████████| 12989/12989 [12.8s elapsed, 0s remaining, 1.1K samples/s]       \n",
      "Computing metadata...\n",
      " 100% |█████████████| 12989/12989 [53.1s elapsed, 0s remaining, 252.1 samples/s]      \n",
      "正在创建: val\n",
      " 100% |███████████████| 1444/1444 [2.2s elapsed, 0s remaining, 655.9 samples/s]      \n",
      "Computing metadata...\n",
      " 100% |███████████████| 1444/1444 [6.6s elapsed, 0s remaining, 249.7 samples/s]      \n",
      "正在创建: test_synth\n",
      " 100% |███████████████| 2212/2212 [3.3s elapsed, 0s remaining, 709.4 samples/s]      \n",
      "Computing metadata...\n",
      " 100% |███████████████| 2212/2212 [10.0s elapsed, 0s remaining, 258.0 samples/s]     \n",
      "正在创建: test_real_nominal\n",
      " 100% |███████████████| 1500/1500 [2.3s elapsed, 0s remaining, 654.9 samples/s]      \n",
      "Computing metadata...\n",
      " 100% |███████████████| 1500/1500 [6.7s elapsed, 0s remaining, 260.2 samples/s]      \n",
      "正在创建: test_real_edge\n",
      " 100% |█████████████████| 311/311 [536.2ms elapsed, 0s remaining, 580.0 samples/s]      \n",
      "Computing metadata...\n",
      " 100% |█████████████████| 311/311 [1.8s elapsed, 0s remaining, 251.5 samples/s]      \n"
     ]
    }
   ],
   "source": [
    "# 构造数据集\n",
    "for data_type in ['train_all', 'train', 'val', 'test_synth', 'test_real_nominal', 'test_real_edge']:\n",
    "\n",
    "    print(f'正在创建: {data_type}')\n",
    "\n",
    "    dataset = fo.Dataset.from_dir(\n",
    "        dataset_type=fo.types.COCODetectionDataset,\n",
    "        data_path=f\"{ROOT_DATA}/YoloFormat/{data_type}/images\",\n",
    "        labels_path=f\"{ROOT_DATA}/annotations/instances_{data_type}.json\",\n",
    "        label_field=\"ground_truth\",\n",
    "        name=f\"lard_{data_type}\"\n",
    "    )\n",
    "\n",
    "    # 计算元数据（较耗时）\n",
    "    dataset.compute_metadata(overwrite=True, num_workers=48)"
   ]
  }
 ],
 "metadata": {
  "kernelspec": {
   "display_name": "pytorch-gpu",
   "language": "python",
   "name": "python3"
  },
  "language_info": {
   "codemirror_mode": {
    "name": "ipython",
    "version": 3
   },
   "file_extension": ".py",
   "mimetype": "text/x-python",
   "name": "python",
   "nbconvert_exporter": "python",
   "pygments_lexer": "ipython3",
   "version": "3.9.7"
  }
 },
 "nbformat": 4,
 "nbformat_minor": 2
}
