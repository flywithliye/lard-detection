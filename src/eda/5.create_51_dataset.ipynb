{
 "cells": [
  {
   "cell_type": "code",
   "execution_count": 1,
   "metadata": {},
   "outputs": [
    {
     "name": "stdout",
     "output_type": "stream",
     "text": [
      "/home/yeli/yeli/data/lard\n",
      "/home/yeli/Nextcloud/lard/lard-detection\n"
     ]
    }
   ],
   "source": [
    "import os\n",
    "\n",
    "ROOT_DATA = os.environ.get('LARD_DATA_ROOT_PATH')\n",
    "ROOT_PROJECT = os.environ.get('LARD_PROJECT_ROOT_PATH')\n",
    "\n",
    "print(ROOT_DATA)\n",
    "print(ROOT_PROJECT)\n"
   ]
  },
  {
   "cell_type": "code",
   "execution_count": 2,
   "metadata": {},
   "outputs": [
    {
     "name": "stdout",
     "output_type": "stream",
     "text": [
      "['lard_test_real_edge', 'lard_test_real_nominal', 'lard_test_synth', 'lard_train', 'lard_train_all', 'lard_val']\n"
     ]
    }
   ],
   "source": [
    "import fiftyone as fo\n",
    "\n",
    "all_datasets = fo.list_datasets()\n",
    "print(all_datasets)"
   ]
  },
  {
   "cell_type": "code",
   "execution_count": 3,
   "metadata": {},
   "outputs": [],
   "source": [
    "import fiftyone as fo\n",
    "\n",
    "all_datasets = fo.list_datasets()\n",
    "for dataset_name in all_datasets:\n",
    "    fo.delete_dataset(dataset_name)"
   ]
  },
  {
   "cell_type": "code",
   "execution_count": 4,
   "metadata": {},
   "outputs": [
    {
     "name": "stdout",
     "output_type": "stream",
     "text": [
      "正在创建: train_all\n",
      " 100% |█████████████| 14433/14433 [15.2s elapsed, 0s remaining, 987.0 samples/s]      \n",
      "Computing metadata...\n",
      " 100% |█████████████| 14433/14433 [2.0m elapsed, 0s remaining, 104.8 samples/s]      \n",
      "正在创建: train\n",
      " 100% |█████████████| 11546/11546 [11.7s elapsed, 0s remaining, 962.2 samples/s]      \n",
      "Computing metadata...\n",
      " 100% |█████████████| 11546/11546 [17.2s elapsed, 0s remaining, 753.3 samples/s]      \n",
      "正在创建: val\n",
      " 100% |███████████████| 2887/2887 [3.0s elapsed, 0s remaining, 957.8 samples/s]      \n",
      "Computing metadata...\n",
      " 100% |███████████████| 2887/2887 [4.1s elapsed, 0s remaining, 789.8 samples/s]       \n",
      "正在创建: test_synth\n",
      " 100% |███████████████| 2212/2212 [2.2s elapsed, 0s remaining, 1.0K samples/s]       \n",
      "Computing metadata...\n",
      " 100% |███████████████| 2212/2212 [12.8s elapsed, 0s remaining, 169.5 samples/s]      \n",
      "正在创建: test_real_nominal\n",
      " 100% |███████████████| 1500/1500 [1.5s elapsed, 0s remaining, 989.6 samples/s]        \n",
      "Computing metadata...\n",
      " 100% |███████████████| 1500/1500 [10.4s elapsed, 0s remaining, 139.3 samples/s]      \n",
      "正在创建: test_real_edge\n",
      " 100% |█████████████████| 311/311 [328.9ms elapsed, 0s remaining, 945.6 samples/s]      \n",
      "Computing metadata...\n",
      " 100% |█████████████████| 311/311 [1.7s elapsed, 0s remaining, 178.4 samples/s]         \n"
     ]
    }
   ],
   "source": [
    "for data_type in ['train_all', 'train', 'val', 'test_synth', 'test_real_nominal', 'test_real_edge']:\n",
    "\n",
    "    print(f'正在创建: {data_type}')\n",
    "\n",
    "    # 构造数据集\n",
    "    dataset = fo.Dataset.from_dir(\n",
    "        dataset_type=fo.types.COCODetectionDataset,\n",
    "        data_path=f\"{ROOT_DATA}/YoloFormat/{data_type}/images\",\n",
    "        labels_path=f\"{ROOT_DATA}/annotations/instances_{data_type}.json\",\n",
    "        label_field=\"ground_truth\",\n",
    "        name=f\"lard_{data_type}\"\n",
    "    )\n",
    "\n",
    "    # 计算元数据（较耗时）\n",
    "    dataset.compute_metadata(overwrite=True, num_workers=12)"
   ]
  }
 ],
 "metadata": {
  "kernelspec": {
   "display_name": "pytorch-gpu",
   "language": "python",
   "name": "python3"
  },
  "language_info": {
   "codemirror_mode": {
    "name": "ipython",
    "version": 3
   },
   "file_extension": ".py",
   "mimetype": "text/x-python",
   "name": "python",
   "nbconvert_exporter": "python",
   "pygments_lexer": "ipython3",
   "version": "3.9.7"
  }
 },
 "nbformat": 4,
 "nbformat_minor": 2
}
