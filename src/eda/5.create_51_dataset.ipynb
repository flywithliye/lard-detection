{
 "cells": [
  {
   "cell_type": "code",
   "execution_count": 1,
   "metadata": {},
   "outputs": [
    {
     "name": "stdout",
     "output_type": "stream",
     "text": [
      "/fileonssd/lard-dataset\n",
      "/home/yeli/workspace/lard/lard-detection\n"
     ]
    }
   ],
   "source": [
    "import os\n",
    "\n",
    "ROOT_DATA = os.environ.get('LARD_DATA_ROOT_PATH')\n",
    "ROOT_PROJECT = os.environ.get('LARD_PROJECT_ROOT_PATH')\n",
    "\n",
    "print(ROOT_DATA)\n",
    "print(ROOT_PROJECT)\n"
   ]
  },
  {
   "cell_type": "code",
   "execution_count": 2,
   "metadata": {},
   "outputs": [
    {
     "name": "stdout",
     "output_type": "stream",
     "text": [
      "['bars_test2014', 'bars_train2014', 'bars_val2014', 'fs2020_test', 'fs2020_train', 'lard_test_real', 'lard_test_real_edge', 'lard_test_real_nominal', 'lard_test_synth', 'lard_train', 'lard_train_all', 'lard_val']\n"
     ]
    }
   ],
   "source": [
    "import fiftyone as fo\n",
    "\n",
    "# liat all datasets 列举所有数据集\n",
    "all_datasets = fo.list_datasets()\n",
    "print(all_datasets)"
   ]
  },
  {
   "cell_type": "code",
   "execution_count": 3,
   "metadata": {},
   "outputs": [],
   "source": [
    "# # clean all datasets 清空所有数据集\n",
    "# all_datasets = fo.list_datasets()\n",
    "# for dataset_name in all_datasets:\n",
    "#     fo.delete_dataset(dataset_name)"
   ]
  },
  {
   "cell_type": "code",
   "execution_count": 3,
   "metadata": {},
   "outputs": [
    {
     "name": "stdout",
     "output_type": "stream",
     "text": [
      "正在创建: lard_train_all\n",
      "正在创建: lard_train\n",
      "正在创建: lard_val\n",
      "正在创建: lard_test_synth\n",
      "正在创建: lard_test_real_nominal\n",
      "正在创建: lard_test_real_edge\n",
      "正在创建: lard_test_real\n"
     ]
    },
    {
     "ename": "",
     "evalue": "",
     "output_type": "error",
     "traceback": [
      "\u001b[1;31mThe Kernel crashed while executing code in the the current cell or a previous cell. Please review the code in the cell(s) to identify a possible cause of the failure. Click <a href='https://aka.ms/vscodeJupyterKernelCrash'>here</a> for more info. View Jupyter <a href='command:jupyter.viewOutput'>log</a> for further details."
     ]
    }
   ],
   "source": [
    "# construct datasets 构造数据集\n",
    "for data_type in ['train_all', 'train', 'val', 'test_synth', 'test_real_nominal', 'test_real_edge', 'test_real']:\n",
    "\n",
    "    dataset_name = f\"lard_{data_type}\"\n",
    "    print(f'Creating: {dataset_name}')\n",
    "\n",
    "    # delete original datasets 删除原始数据集\n",
    "    if dataset_name in all_datasets:\n",
    "        fo.delete_dataset(dataset_name)\n",
    "\n",
    "    # dataset = fo.Dataset.from_dir(\n",
    "    #     dataset_type=fo.types.COCODetectionDataset,\n",
    "    #     data_path=f\"{ROOT_PROJECT}/datasets/lard/detection/{data_type}/images\",\n",
    "    #     labels_path=f\"{ROOT_PROJECT}/datasets/lard/annotations/instances_{data_type}.json\",\n",
    "    #     label_field=\"ground_truth\",\n",
    "    #     name=dataset_name\n",
    "    # )\n",
    "\n",
    "    # # calculate meta 计算元数据（较耗时）\n",
    "    # dataset.compute_metadata(overwrite=True, num_workers=48)"
   ]
  }
 ],
 "metadata": {
  "kernelspec": {
   "display_name": "pytorch-gpu",
   "language": "python",
   "name": "python3"
  },
  "language_info": {
   "codemirror_mode": {
    "name": "ipython",
    "version": 3
   },
   "file_extension": ".py",
   "mimetype": "text/x-python",
   "name": "python",
   "nbconvert_exporter": "python",
   "pygments_lexer": "ipython3",
   "version": "3.9.7"
  }
 },
 "nbformat": 4,
 "nbformat_minor": 2
}
