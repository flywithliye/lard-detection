{
 "cells": [
  {
   "cell_type": "code",
   "execution_count": 1,
   "metadata": {},
   "outputs": [
    {
     "name": "stdout",
     "output_type": "stream",
     "text": [
      "/fileonssd/lard-dataset\n",
      "/home/yeli/workspace/lard/lard-detection\n"
     ]
    }
   ],
   "source": [
    "import os\n",
    "\n",
    "ROOT_DATA = os.environ.get('LARD_DATA_ROOT_PATH')\n",
    "ROOT_PROJECT = os.environ.get('LARD_PROJECT_ROOT_PATH')\n",
    "\n",
    "print(ROOT_DATA)\n",
    "print(ROOT_PROJECT)\n"
   ]
  },
  {
   "cell_type": "code",
   "execution_count": 2,
   "metadata": {},
   "outputs": [
    {
     "name": "stdout",
     "output_type": "stream",
     "text": [
      "[]\n"
     ]
    }
   ],
   "source": [
    "import fiftyone as fo\n",
    "\n",
    "# 列举所有数据集\n",
    "all_datasets = fo.list_datasets()\n",
    "print(all_datasets)"
   ]
  },
  {
   "cell_type": "code",
   "execution_count": 3,
   "metadata": {},
   "outputs": [],
   "source": [
    "# # 清空所有数据集\n",
    "# all_datasets = fo.list_datasets()\n",
    "# for dataset_name in all_datasets:\n",
    "#     fo.delete_dataset(dataset_name)"
   ]
  },
  {
   "cell_type": "code",
   "execution_count": 3,
   "metadata": {},
   "outputs": [
    {
     "name": "stdout",
     "output_type": "stream",
     "text": [
      "正在创建: train_all\n",
      " 100% |█████████████| 14431/14431 [13.6s elapsed, 0s remaining, 1.1K samples/s]       \n",
      "Computing metadata...\n",
      " 100% |█████████████| 14431/14431 [58.9s elapsed, 0s remaining, 259.0 samples/s]      \n",
      "正在创建: train\n",
      " 100% |█████████████| 11544/11544 [11.6s elapsed, 0s remaining, 1.1K samples/s]       \n",
      "Computing metadata...\n",
      " 100% |█████████████| 11544/11544 [47.6s elapsed, 0s remaining, 256.4 samples/s]      \n",
      "正在创建: val\n",
      " 100% |███████████████| 2887/2887 [3.7s elapsed, 0s remaining, 986.5 samples/s]      \n",
      "Computing metadata...\n",
      " 100% |███████████████| 2887/2887 [12.3s elapsed, 0s remaining, 255.3 samples/s]      \n",
      "正在创建: test_synth\n",
      " 100% |███████████████| 2212/2212 [3.4s elapsed, 0s remaining, 687.8 samples/s]      \n",
      "Computing metadata...\n",
      " 100% |███████████████| 2212/2212 [9.6s elapsed, 0s remaining, 258.0 samples/s]      \n",
      "正在创建: test_real_nominal\n",
      " 100% |███████████████| 1500/1500 [2.3s elapsed, 0s remaining, 643.2 samples/s]      \n",
      "Computing metadata...\n",
      " 100% |███████████████| 1500/1500 [6.9s elapsed, 0s remaining, 257.8 samples/s]      \n",
      "正在创建: test_real_edge\n",
      " 100% |█████████████████| 311/311 [541.8ms elapsed, 0s remaining, 574.0 samples/s]      \n",
      "Computing metadata...\n",
      " 100% |█████████████████| 311/311 [1.8s elapsed, 0s remaining, 256.1 samples/s]      \n"
     ]
    }
   ],
   "source": [
    "# 构造数据集\n",
    "for data_type in ['train_all', 'train', 'val', 'test_synth', 'test_real_nominal', 'test_real_edge']:\n",
    "\n",
    "    print(f'正在创建: {data_type}')\n",
    "\n",
    "    dataset = fo.Dataset.from_dir(\n",
    "        dataset_type=fo.types.COCODetectionDataset,\n",
    "        data_path=f\"{ROOT_DATA}/YoloFormat/{data_type}/images\",\n",
    "        labels_path=f\"{ROOT_DATA}/annotations/instances_{data_type}.json\",\n",
    "        label_field=\"ground_truth\",\n",
    "        name=f\"lard_{data_type}\"\n",
    "    )\n",
    "\n",
    "    # 计算元数据（较耗时）\n",
    "    dataset.compute_metadata(overwrite=True, num_workers=48)"
   ]
  }
 ],
 "metadata": {
  "kernelspec": {
   "display_name": "pytorch-gpu",
   "language": "python",
   "name": "python3"
  },
  "language_info": {
   "codemirror_mode": {
    "name": "ipython",
    "version": 3
   },
   "file_extension": ".py",
   "mimetype": "text/x-python",
   "name": "python",
   "nbconvert_exporter": "python",
   "pygments_lexer": "ipython3",
   "version": "3.9.7"
  }
 },
 "nbformat": 4,
 "nbformat_minor": 2
}
