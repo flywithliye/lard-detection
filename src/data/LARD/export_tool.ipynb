{
 "cells": [
  {
   "attachments": {},
   "cell_type": "markdown",
   "id": "b29f4502",
   "metadata": {},
   "source": [
    "## LARD Dataset export tool\n",
    "This notebook guides you through the process of exporting the dataset in a few existing format for object detection. It provides the following features:\n",
    "- `Bounding box` generation based on the corners of the runway, in several possible format.\n",
    "- `Multiple` label files (one label file per image) or a `single` label file containing all labels at once.\n",
    "- `Image crop`, depending on the height of the watermark. Note that the crop only consists in removing the watermark height (typically 300 pixel) from the bottom AND the top of the images, as the initial picture was expanded by 600 pixel in total in height to plan for the watermark position. This crop also updates the position of the bounding box to match the new image dimensions. \n",
    "  - ⚠️ *It does not crop around the runway* in the image.\n",
    "- A few additional options, such as the *bounding box normalisation*, the *separator* used in the label file, and the file extensions."
   ]
  },
  {
   "cell_type": "code",
   "execution_count": 1,
   "id": "0d12e5e6",
   "metadata": {},
   "outputs": [],
   "source": [
    "from src.dataset.lard_dataset import LardDataset"
   ]
  },
  {
   "attachments": {},
   "cell_type": "markdown",
   "id": "d18a5bf1",
   "metadata": {},
   "source": [
    "### Load your LARD dataset\n",
    "This loader works with either a single folder (for instance `LARD_train_DAAG_DIAP/`), or a folder with multiple subfolders.\n",
    "\n",
    "We recommend to gather all folders of the **training set** under a single folder. For instance in our case we have the following folder hierarchy:\n",
    "```\n",
    "LARD_train/\n",
    "| LARD_train_BIRK_LFST/\n",
    "| LARD_train_DAAG_DIAP/\n",
    "| ...\n",
    "```\n",
    "The same can be done for the test set, or you can directly indicate the `LARD_test_synth/` folder if the real images are not needed.\n",
    "\n",
    "*Please check [Dataset folder structure](#dataset-folder-structure) for a more comprehensive description.*"
   ]
  },
  {
   "cell_type": "code",
   "execution_count": 2,
   "id": "48e6ca2d",
   "metadata": {},
   "outputs": [],
   "source": [
    "dataset = LardDataset(train_path=\"../LARD_dataset/LARD_train/\", test_path=\"../LARD_dataset/LARD_test_synth/\")"
   ]
  },
  {
   "attachments": {},
   "cell_type": "markdown",
   "id": "20843e78",
   "metadata": {},
   "source": [
    "### Export to a specific format\n",
    "- Quickstart: exporting to coco format\n",
    "\n",
    "*Please check [Export options](#export-options) for a more comprehensive description.*"
   ]
  },
  {
   "cell_type": "code",
   "execution_count": null,
   "id": "0c2de920",
   "metadata": {},
   "outputs": [],
   "source": [
    "dataset.export(output_dir =\"../newYoloFormat/\", \n",
    "               bbx_format=\"xywh\", # Options are 'tlbr', 'tlwh', 'xywh', 'corners'\n",
    "               normalized=True, \n",
    "               label_file=\"multiple\", # 'multiple' produces 1 file per label, as expected by yolo architectures. \n",
    "               crop=True, # 'True' recommended to remove the watermark. Pay attention to not crop a picture multiple times\n",
    "               sep=' ', # Separator in the label file.\n",
    "               header=False, # 'False' is recommender for multiple files, 'True' for single files. It adds a header with column names in the first line of the labels file  \n",
    "               ext=\"txt\")"
   ]
  },
  {
   "attachments": {},
   "cell_type": "markdown",
   "id": "9911c4cb",
   "metadata": {},
   "source": [
    "### Additional information"
   ]
  },
  {
   "attachments": {},
   "cell_type": "markdown",
   "id": "01e0085f",
   "metadata": {},
   "source": [
    "#### Dataset folder structure\n",
    "\n",
    "The expected format is one created with the Lard labeling script or notebook :\n",
    "\n",
    "- Case 1 - **single dataset**, with `DATASET_PATH` being either of the path provided to `LardDataset(train_path=, test_path=)`\n",
    "```\n",
    "    DATASET_PATH/\n",
    "    | metadata.csv\n",
    "    | images/\n",
    "    | | nameimage1.jpeg\n",
    "    | | nameimage2.jpeg\n",
    "    | | ...\n",
    "```\n",
    "With the same structure for `TEST_PATH`. Please note it is the default structure the labelling script exports the labels.\n",
    "\n",
    "- Case 2 - **splitted dataset**, with `DATASET_PATH` being either of the path provided to `LardDataset(train_path=, test_path=)`\n",
    "```\n",
    "    DATASET_PATH/\n",
    "    | dataset_1/\n",
    "    | | metadata.csv\n",
    "    | | images/\n",
    "    | | | nameimage1.jpeg\n",
    "    | | | nameimage2.jpeg\n",
    "    | | | ...\n",
    "    | dataset_2/\n",
    "    | | metadata.csv\n",
    "    | | images/\n",
    "    | | | nameimage1.jpeg\n",
    "    | | | nameimage2.jpeg\n",
    "    | | | ...\n",
    "    | ...\n",
    "```\n",
    "\n",
    "- Other informations : \n",
    "    - train_path and test_path can of the same type, or mixed\n",
    "    - There can be more than two dataset in DATASET_PATH in case 2. \n",
    "    - CSV and images names do not matter, only the architecture : there should be a single csv file in each directory specified above. Each csv is expected to be generated with the LARD labeling script or notebook.\n",
    "\n"
   ]
  },
  {
   "attachments": {},
   "cell_type": "markdown",
   "id": "c912dd99",
   "metadata": {},
   "source": [
    "### Export options\n",
    "A more comprehensive description of the available parameters and exports options :\n",
    "- output_dir: directory where the converted dataset will be saved. Expects a pathlib Path or a string.\n",
    "- bbx_format: string format for label bbox. Options are :\n",
    "    - \"tlbr\" (x,y of top left then x,y of bottom rights corners of the bbox)\n",
    "    - \"tlwh\" (x, y of top left, bbox width and height)\n",
    "    - \"xywh\" (x, y of the center of the bbox, bbox width and height)\n",
    "    - \"corners\" (x,y of each corner)\n",
    "- normalized: boolean, option to normalize the bbox position by the image size. \n",
    "    - If true, bbox labels are expressed in fraction of the image width and height\n",
    "    - If False, positions are left in pixels. Default choice.\n",
    "- label_file: string, options are :\n",
    "    - \"single\" : all the labels are in a single csv, with a column with image path\n",
    "    - \"multiple\" : one label file per image, saved in output_dir/labels.\n",
    "- sep: label file(s) separator, default is \";\".\n",
    "- header: boolean. If True, an header column with column names is added to each label file.\n",
    "- crop: boolean \n",
    "    - If True, crop during export all images with watermarks and updates bboxes position to the cropped image. \n",
    "    - If False, the image will be copied without modifications.\n",
    "- ext: Extension format for labels files (without the \".\"). Default is \"txt\"."
   ]
  }
 ],
 "metadata": {
  "kernelspec": {
   "display_name": "LARD_env",
   "language": "python",
   "name": "python3"
  },
  "language_info": {
   "codemirror_mode": {
    "name": "ipython",
    "version": 3
   },
   "file_extension": ".py",
   "mimetype": "text/x-python",
   "name": "python",
   "nbconvert_exporter": "python",
   "pygments_lexer": "ipython3",
   "version": "3.9.15"
  },
  "vscode": {
   "interpreter": {
    "hash": "842a7088db44c00ca77a3dc61e0a8652101f0fddac8ceb0167a83c71a329c149"
   }
  }
 },
 "nbformat": 4,
 "nbformat_minor": 5
}
