{
 "cells": [
  {
   "cell_type": "markdown",
   "metadata": {},
   "source": [
    "# 训练/验证划分"
   ]
  },
  {
   "cell_type": "code",
   "execution_count": 1,
   "metadata": {},
   "outputs": [
    {
     "name": "stdout",
     "output_type": "stream",
     "text": [
      "训练集数量：11546，验证集数量：2887\n",
      "训练集百分比：80.00%\n",
      "训练集百分比：20.00%\n",
      "['LFQQ_01_500_171', 'LPPT_21_500_168', 'VABB_27_500_121', 'KMSY_2_500_169', 'BIRK_01_500_375']\n"
     ]
    }
   ],
   "source": [
    "import os\n",
    "import shutil\n",
    "import random\n",
    "\n",
    "# 设置随机数生成器的种子\n",
    "random.seed(0)\n",
    "\n",
    "# 设置路径\n",
    "src_image_dir = os.path.abspath('datasets/lard/YoloFormat/train_all/images')\n",
    "src_label_dir = os.path.abspath('datasets/lard/YoloFormat/train_all/labels')\n",
    "dst_train_image_dir = os.path.abspath('datasets/lard/YoloFormat/train/images')\n",
    "dst_train_label_dir = os.path.abspath('datasets/lard/YoloFormat/train/labels')\n",
    "dst_val_image_dir = os.path.abspath('datasets/lard/YoloFormat/val/images')\n",
    "dst_val_label_dir = os.path.abspath('datasets/lard/YoloFormat/val/labels')\n",
    "\n",
    "# 创建目录\n",
    "os.makedirs(dst_train_image_dir, exist_ok=True)\n",
    "os.makedirs(dst_train_label_dir, exist_ok=True)\n",
    "os.makedirs(dst_val_image_dir, exist_ok=True)\n",
    "os.makedirs(dst_val_label_dir, exist_ok=True)\n",
    "\n",
    "# 获取所有文件名（不包括扩展名）\n",
    "filenames = [os.path.splitext(f)[0] for f in os.listdir(\n",
    "    src_image_dir) if os.path.isfile(os.path.join(src_image_dir, f))]\n",
    "\n",
    "# 随机洗牌\n",
    "random.shuffle(filenames)\n",
    "\n",
    "# 划分训练集和验证集，例如，将80%的数据用于训练，20%的数据用于验证\n",
    "train_filenames = filenames[:int(0.8 * len(filenames))]\n",
    "val_filenames = filenames[int(0.8 * len(filenames)):]\n",
    "\n",
    "print(f'训练集数量：{len(train_filenames)}，验证集数量：{len(val_filenames)}')\n",
    "\n",
    "# 打印训练集和验证集的百分比\n",
    "print(f'训练集百分比：{len(train_filenames) / len(filenames):.2%}')\n",
    "print(f'训练集百分比：{len(val_filenames) / len(filenames):.2%}')\n",
    "\n",
    "print(train_filenames[:5])"
   ]
  },
  {
   "cell_type": "code",
   "execution_count": 2,
   "metadata": {},
   "outputs": [],
   "source": [
    "# 创建软连接到新的目录\n",
    "for name in train_filenames:\n",
    "    os.symlink(os.path.join(src_image_dir, f'{name}.jpeg'), os.path.join(\n",
    "        dst_train_image_dir, f'{name}.jpeg'))\n",
    "    os.symlink(os.path.join(src_label_dir, f'{name}.txt'), os.path.join(\n",
    "        dst_train_label_dir, f'{name}.txt'))\n",
    "\n",
    "for name in val_filenames:\n",
    "    os.symlink(os.path.join(src_image_dir, f'{name}.jpeg'), os.path.join(\n",
    "        dst_val_image_dir, f'{name}.jpeg'))\n",
    "    os.symlink(os.path.join(src_label_dir, f'{name}.txt'), os.path.join(\n",
    "        dst_val_label_dir, f'{name}.txt'))"
   ]
  },
  {
   "cell_type": "code",
   "execution_count": 3,
   "metadata": {},
   "outputs": [
    {
     "name": "stdout",
     "output_type": "stream",
     "text": [
      "Train image count: 11546\n",
      "Train label count: 11546\n",
      "Validation image count: 2887\n",
      "Validation label count: 2887\n"
     ]
    }
   ],
   "source": [
    "import os\n",
    "\n",
    "\n",
    "def count_files_in_folder(folder_path):\n",
    "    return len(os.listdir(folder_path))\n",
    "\n",
    "\n",
    "train_image_count = count_files_in_folder(dst_train_image_dir)\n",
    "train_label_count = count_files_in_folder(dst_train_label_dir)\n",
    "val_image_count = count_files_in_folder(dst_val_image_dir)\n",
    "val_label_count = count_files_in_folder(dst_val_label_dir)\n",
    "\n",
    "print(f\"Train image count: {train_image_count}\")\n",
    "print(f\"Train label count: {train_label_count}\")\n",
    "print(f\"Validation image count: {val_image_count}\")\n",
    "print(f\"Validation label count: {val_label_count}\")"
   ]
  }
 ],
 "metadata": {
  "kernelspec": {
   "display_name": "pytorch-gpu",
   "language": "python",
   "name": "python3"
  },
  "language_info": {
   "codemirror_mode": {
    "name": "ipython",
    "version": 3
   },
   "file_extension": ".py",
   "mimetype": "text/x-python",
   "name": "python",
   "nbconvert_exporter": "python",
   "pygments_lexer": "ipython3",
   "version": "3.9.7"
  }
 },
 "nbformat": 4,
 "nbformat_minor": 2
}
