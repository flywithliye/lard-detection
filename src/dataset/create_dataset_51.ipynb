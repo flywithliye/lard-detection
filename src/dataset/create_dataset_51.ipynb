{
 "cells": [
  {
   "cell_type": "code",
   "execution_count": 1,
   "metadata": {},
   "outputs": [
    {
     "name": "stdout",
     "output_type": "stream",
     "text": [
      "[]\n"
     ]
    }
   ],
   "source": [
    "import fiftyone as fo\n",
    "\n",
    "print(fo.list_datasets())"
   ]
  },
  {
   "cell_type": "code",
   "execution_count": 11,
   "metadata": {},
   "outputs": [],
   "source": [
    "# import fiftyone as fo\n",
    "\n",
    "# # 获取所有数据集名称\n",
    "# all_datasets = fo.list_datasets()\n",
    "\n",
    "# # 删除所有数据集\n",
    "# for dataset_name in all_datasets:\n",
    "#     fo.delete_dataset(dataset_name)"
   ]
  },
  {
   "cell_type": "code",
   "execution_count": 2,
   "metadata": {},
   "outputs": [
    {
     "name": "stdout",
     "output_type": "stream",
     "text": [
      "正在创建: train_all\n",
      " 100% |█████████████| 14433/14433 [14.4s elapsed, 0s remaining, 997.6 samples/s]      \n",
      "Computing metadata...\n",
      " 100% |█████████████| 14433/14433 [20.7s elapsed, 0s remaining, 770.4 samples/s]      \n",
      "正在创建: train\n",
      " 100% |█████████████| 11546/11546 [11.5s elapsed, 0s remaining, 1.0K samples/s]       \n",
      "Computing metadata...\n",
      " 100% |█████████████| 11546/11546 [16.7s elapsed, 0s remaining, 762.3 samples/s]      \n",
      "正在创建: val\n",
      " 100% |███████████████| 2887/2887 [2.9s elapsed, 0s remaining, 998.6 samples/s]      \n",
      "Computing metadata...\n",
      " 100% |███████████████| 2887/2887 [4.2s elapsed, 0s remaining, 785.1 samples/s]       \n",
      "正在创建: test_synth\n",
      " 100% |███████████████| 2212/2212 [2.3s elapsed, 0s remaining, 1.0K samples/s]       \n",
      "Computing metadata...\n",
      " 100% |███████████████| 2212/2212 [3.2s elapsed, 0s remaining, 764.0 samples/s]      \n",
      "正在创建: test_real_nominal\n",
      " 100% |███████████████| 1500/1500 [1.5s elapsed, 0s remaining, 992.4 samples/s]         \n",
      "Computing metadata...\n",
      " 100% |███████████████| 1500/1500 [2.2s elapsed, 0s remaining, 760.7 samples/s]      \n",
      "正在创建: test_real_edge\n",
      " 100% |█████████████████| 311/311 [402.4ms elapsed, 0s remaining, 773.0 samples/s]      \n",
      "Computing metadata...\n",
      " 100% |█████████████████| 311/311 [494.7ms elapsed, 0s remaining, 628.6 samples/s]      \n"
     ]
    }
   ],
   "source": [
    "for data_type in ['train_all', 'train', 'val', 'test_synth', 'test_real_nominal', 'test_real_edge']:\n",
    "\n",
    "    print(f'正在创建: {data_type}')\n",
    "\n",
    "    dataset = fo.Dataset.from_dir(\n",
    "        dataset_type=fo.types.COCODetectionDataset,\n",
    "        data_path=f\"./../../datasets/lard/YoloFormat/{data_type}/images\",\n",
    "        labels_path=f\"./../../datasets/lard/annotations/instances_{data_type}.json\",\n",
    "        label_field=\"ground_truth\",\n",
    "        name=f\"lard_{data_type}\"\n",
    "    )\n",
    "    dataset.compute_metadata(overwrite=True, num_workers=12)"
   ]
  }
 ],
 "metadata": {
  "kernelspec": {
   "display_name": "pytorch-gpu",
   "language": "python",
   "name": "python3"
  },
  "language_info": {
   "codemirror_mode": {
    "name": "ipython",
    "version": 3
   },
   "file_extension": ".py",
   "mimetype": "text/x-python",
   "name": "python",
   "nbconvert_exporter": "python",
   "pygments_lexer": "ipython3",
   "version": "3.9.7"
  }
 },
 "nbformat": 4,
 "nbformat_minor": 2
}
