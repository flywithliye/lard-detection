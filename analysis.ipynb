{
 "cells": [
  {
   "cell_type": "code",
   "execution_count": 1,
   "metadata": {},
   "outputs": [
    {
     "name": "stdout",
     "output_type": "stream",
     "text": [
      "/home/yeli/yeli/data/lard\n",
      "/home/yeli/Nextcloud/lard/lard-detection\n",
      "HELLO\n"
     ]
    }
   ],
   "source": [
    "import os\n",
    "\n",
    "ROOT_DATA = os.environ.get('LARD_DATA_ROOT_PATH')\n",
    "ROOT_PROJECT = os.environ.get('LARD_PROJECT_ROOT_PATH')\n",
    "\n",
    "print(ROOT_DATA)\n",
    "print(ROOT_PROJECT)\n",
    "\n",
    "print('HELLO')\n"
   ]
  },
  {
   "cell_type": "markdown",
   "metadata": {},
   "source": [
    "# 查看已有数据集"
   ]
  },
  {
   "cell_type": "code",
   "execution_count": 1,
   "metadata": {},
   "outputs": [
    {
     "name": "stdout",
     "output_type": "stream",
     "text": [
      "['lard_test_real_edge', 'lard_test_real_nominal', 'lard_test_synth', 'lard_train', 'lard_train_all', 'lard_val']\n"
     ]
    }
   ],
   "source": [
    "import fiftyone as fo\n",
    "all_datasets = fo.list_datasets()\n",
    "print(all_datasets)"
   ]
  },
  {
   "cell_type": "markdown",
   "metadata": {},
   "source": [
    "# 打开web界面查看结果"
   ]
  },
  {
   "cell_type": "code",
   "execution_count": 2,
   "metadata": {},
   "outputs": [
    {
     "name": "stdout",
     "output_type": "stream",
     "text": [
      "odict_keys(['id', 'filepath', 'tags', 'metadata', 'ground_truth_detections', 'predictions_yolov3_train_val', 'predictions_yolov8n-p2_train_val'])\n",
      "\n",
      "Could not connect session, trying again in 10 seconds\n",
      "\n",
      "Session launched. Run `session.show()` to open the App in a cell output.\n"
     ]
    }
   ],
   "source": [
    "dataset = fo.load_dataset(\"lard_test_synth\")\n",
    "print(dataset.get_field_schema().keys())\n",
    "session = fo.launch_app(dataset, auto=False)"
   ]
  },
  {
   "cell_type": "code",
   "execution_count": 3,
   "metadata": {},
   "outputs": [],
   "source": [
    "session.close()"
   ]
  },
  {
   "cell_type": "markdown",
   "metadata": {},
   "source": [
    "# 删除全部预测"
   ]
  },
  {
   "cell_type": "code",
   "execution_count": 3,
   "metadata": {},
   "outputs": [
    {
     "name": "stdout",
     "output_type": "stream",
     "text": [
      "删除字段: []\n",
      "删除字段: []\n",
      "删除字段: []\n",
      "删除字段: []\n",
      "删除字段: []\n",
      "删除字段: []\n"
     ]
    }
   ],
   "source": [
    "from src.utils.database import delete_all_predictions\n",
    "    \n",
    "for name in all_datasets:\n",
    "    dataset = fo.load_dataset(name)\n",
    "    delete_all_predictions(dataset)\n"
   ]
  },
  {
   "cell_type": "code",
   "execution_count": 1,
   "metadata": {},
   "outputs": [
    {
     "name": "stdout",
     "output_type": "stream",
     "text": [
      "正在评估: test_synth\n",
      "Evaluating detections...\n",
      " 100% |███████████████| 2212/2212 [4.5s elapsed, 0s remaining, 500.3 samples/s]      \n",
      "Performing IoU sweep...\n",
      " 100% |███████████████| 2212/2212 [4.8s elapsed, 0s remaining, 473.9 samples/s]      \n",
      "              precision    recall  f1-score   support\n",
      "\n",
      "      runway       0.97      0.97      0.97      2212\n",
      "\n",
      "   micro avg       0.97      0.97      0.97      2212\n",
      "   macro avg       0.97      0.97      0.97      2212\n",
      "weighted avg       0.97      0.97      0.97      2212\n",
      "\n",
      "mAP: 0.715\n",
      "   accuracy  precision  recall  fscore  support\n",
      "0      0.94      0.971   0.968   0.969     2212\n",
      "正在评估: test_real_nominal\n",
      "Evaluating detections...\n",
      " 100% |███████████████| 1500/1500 [3.0s elapsed, 0s remaining, 507.9 samples/s]      \n",
      "Performing IoU sweep...\n",
      " 100% |███████████████| 1500/1500 [3.2s elapsed, 0s remaining, 478.7 samples/s]      \n",
      "              precision    recall  f1-score   support\n",
      "\n",
      "      runway       0.86      0.78      0.82      1500\n",
      "\n",
      "   micro avg       0.86      0.78      0.82      1500\n",
      "   macro avg       0.86      0.78      0.82      1500\n",
      "weighted avg       0.86      0.78      0.82      1500\n",
      "\n",
      "mAP: 0.525\n",
      "   accuracy  precision  recall  fscore  support\n",
      "0     0.695      0.862   0.782    0.82     1500\n",
      "正在评估: test_real_edge\n",
      "Evaluating detections...\n",
      " 100% |█████████████████| 311/311 [582.8ms elapsed, 0s remaining, 533.6 samples/s]      \n",
      "Performing IoU sweep...\n",
      " 100% |█████████████████| 311/311 [563.6ms elapsed, 0s remaining, 551.8 samples/s]      \n",
      "              precision    recall  f1-score   support\n",
      "\n",
      "      runway       0.71      0.48      0.57       311\n",
      "\n",
      "   micro avg       0.71      0.48      0.57       311\n",
      "   macro avg       0.71      0.48      0.57       311\n",
      "weighted avg       0.71      0.48      0.57       311\n",
      "\n",
      "mAP: 0.288\n",
      "   accuracy  precision  recall  fscore  support\n",
      "0     0.399      0.712   0.476    0.57      311\n"
     ]
    }
   ],
   "source": [
    "from src.utils.database import eval_detections_in_database\n",
    "\n",
    "all_results = eval_detections_in_database('yolov8n-p2_train_val')\n",
    "\n",
    "# todo: 写一个函数，自动处理各数据集/各模型 进行评估"
   ]
  },
  {
   "cell_type": "code",
   "execution_count": 3,
   "metadata": {},
   "outputs": [
    {
     "data": {},
     "metadata": {},
     "output_type": "display_data"
    },
    {
     "data": {
      "text/plain": []
     },
     "metadata": {},
     "output_type": "display_data"
    },
    {
     "data": {
      "application/vnd.jupyter.widget-view+json": {
       "model_id": "a585f1192513454fb10ee107bfaea881",
       "version_major": 2,
       "version_minor": 0
      },
      "text/plain": [
       "FigureWidget({\n",
       "    'data': [{'customdata': array([0.98346 , 0.959411, 0.952703, 0.948933, 0.945987, 0.943281, 0.940937,\n",
       "                                   0.938159, 0.935524, 0.933398, 0.931047, 0.926193, 0.839753, 0.838682,\n",
       "                                   0.837822, 0.836778, 0.835307, 0.833886, 0.832553, 0.831275, 0.830008,\n",
       "                                   0.828706, 0.827584, 0.826041, 0.824877, 0.823341, 0.821797, 0.820741,\n",
       "                                   0.819301, 0.81783 , 0.816611, 0.815336, 0.813737, 0.812139, 0.810144,\n",
       "                                   0.808132, 0.80618 , 0.804365, 0.802627, 0.799118, 0.793286, 0.74658 ,\n",
       "                                   0.714317, 0.713149, 0.712127, 0.710916, 0.709588, 0.708232, 0.706949,\n",
       "                                   0.705755, 0.704329, 0.703112, 0.7015  , 0.699942, 0.698148, 0.696534,\n",
       "                                   0.694879, 0.693193, 0.6914  , 0.689311, 0.687379, 0.684983, 0.680824,\n",
       "                                   0.674576, 0.654494, 0.598231, 0.596663, 0.594824, 0.593393, 0.591613,\n",
       "                                   0.589585, 0.587653, 0.58556 , 0.582833, 0.579111, 0.574412, 0.569222,\n",
       "                                   0.560131, 0.532091, 0.490754, 0.487657, 0.484382, 0.479163, 0.47471 ,\n",
       "                                   0.46685 , 0.453324, 0.421332, 0.384247, 0.376332, 0.365456, 0.350321,\n",
       "                                   0.315357, 0.265837, 0.232438, 0.16348 , 0.094552, 0.03811 , 0.      ,\n",
       "                                   0.      , 0.      , 0.      ]),\n",
       "              'hovertemplate': ('<b>class: %{text}</b><br>recal' ... 'customdata:.3f}<extra></extra>'),\n",
       "              'line': {'color': '#FF6D04'},\n",
       "              'mode': 'lines',\n",
       "              'name': 'runway (AP = 0.715)',\n",
       "              'text': array(['runway', 'runway', 'runway', 'runway', 'runway', 'runway', 'runway',\n",
       "                             'runway', 'runway', 'runway', 'runway', 'runway', 'runway', 'runway',\n",
       "                             'runway', 'runway', 'runway', 'runway', 'runway', 'runway', 'runway',\n",
       "                             'runway', 'runway', 'runway', 'runway', 'runway', 'runway', 'runway',\n",
       "                             'runway', 'runway', 'runway', 'runway', 'runway', 'runway', 'runway',\n",
       "                             'runway', 'runway', 'runway', 'runway', 'runway', 'runway', 'runway',\n",
       "                             'runway', 'runway', 'runway', 'runway', 'runway', 'runway', 'runway',\n",
       "                             'runway', 'runway', 'runway', 'runway', 'runway', 'runway', 'runway',\n",
       "                             'runway', 'runway', 'runway', 'runway', 'runway', 'runway', 'runway',\n",
       "                             'runway', 'runway', 'runway', 'runway', 'runway', 'runway', 'runway',\n",
       "                             'runway', 'runway', 'runway', 'runway', 'runway', 'runway', 'runway',\n",
       "                             'runway', 'runway', 'runway', 'runway', 'runway', 'runway', 'runway',\n",
       "                             'runway', 'runway', 'runway', 'runway', 'runway', 'runway', 'runway',\n",
       "                             'runway', 'runway', 'runway', 'runway', 'runway', 'runway', 'runway',\n",
       "                             'runway', 'runway', 'runway'], dtype='<U6'),\n",
       "              'type': 'scatter',\n",
       "              'uid': '6b08114e-30ca-4419-b6e3-9593e2ac66d0',\n",
       "              'x': array([0.  , 0.01, 0.02, 0.03, 0.04, 0.05, 0.06, 0.07, 0.08, 0.09, 0.1 , 0.11,\n",
       "                          0.12, 0.13, 0.14, 0.15, 0.16, 0.17, 0.18, 0.19, 0.2 , 0.21, 0.22, 0.23,\n",
       "                          0.24, 0.25, 0.26, 0.27, 0.28, 0.29, 0.3 , 0.31, 0.32, 0.33, 0.34, 0.35,\n",
       "                          0.36, 0.37, 0.38, 0.39, 0.4 , 0.41, 0.42, 0.43, 0.44, 0.45, 0.46, 0.47,\n",
       "                          0.48, 0.49, 0.5 , 0.51, 0.52, 0.53, 0.54, 0.55, 0.56, 0.57, 0.58, 0.59,\n",
       "                          0.6 , 0.61, 0.62, 0.63, 0.64, 0.65, 0.66, 0.67, 0.68, 0.69, 0.7 , 0.71,\n",
       "                          0.72, 0.73, 0.74, 0.75, 0.76, 0.77, 0.78, 0.79, 0.8 , 0.81, 0.82, 0.83,\n",
       "                          0.84, 0.85, 0.86, 0.87, 0.88, 0.89, 0.9 , 0.91, 0.92, 0.93, 0.94, 0.95,\n",
       "                          0.96, 0.97, 0.98, 0.99, 1.  ]),\n",
       "              'y': array([1.        , 0.92879807, 0.92525488, 0.92385143, 0.92211481, 0.92180704,\n",
       "                          0.91917978, 0.9140388 , 0.90948924, 0.90646073, 0.9029947 , 0.89725477,\n",
       "                          0.88094174, 0.88094174, 0.88070816, 0.87899387, 0.87677655, 0.87578652,\n",
       "                          0.87378603, 0.87217731, 0.87117939, 0.87019576, 0.86825241, 0.86690076,\n",
       "                          0.86547982, 0.86370767, 0.86214923, 0.86101014, 0.85882652, 0.8557884 ,\n",
       "                          0.85355762, 0.85105904, 0.84783592, 0.84535711, 0.84287111, 0.83879765,\n",
       "                          0.83559988, 0.83322639, 0.83167042, 0.826871  , 0.82289873, 0.81863603,\n",
       "                          0.77559266, 0.77436866, 0.77342661, 0.77236886, 0.77141549, 0.77058629,\n",
       "                          0.76975288, 0.76841644, 0.76734594, 0.76664581, 0.76540459, 0.7642062 ,\n",
       "                          0.76357048, 0.76213837, 0.76088345, 0.75999755, 0.75811951, 0.75601053,\n",
       "                          0.75418092, 0.75326845, 0.75012172, 0.74801795, 0.74481039, 0.67850221,\n",
       "                          0.67776558, 0.67710821, 0.6764053 , 0.67593451, 0.67556371, 0.67471043,\n",
       "                          0.6738903 , 0.67238116, 0.67086559, 0.66936449, 0.66816405, 0.6663436 ,\n",
       "                          0.66444867, 0.58385769, 0.58231458, 0.58130432, 0.57994951, 0.57908827,\n",
       "                          0.5779582 , 0.57647102, 0.57464137, 0.4865943 , 0.48573482, 0.48473412,\n",
       "                          0.48353217, 0.48200536, 0.38883604, 0.38772505, 0.29199539, 0.19492338,\n",
       "                          0.09779107, 0.        , 0.        , 0.        , 0.        ])}],\n",
       "    'layout': {'margin': {'b': 0, 'l': 0, 'r': 0, 't': 30},\n",
       "               'shapes': [{'line': {'dash': 'dash'}, 'type': 'line', 'x0': 0, 'x1': 1, 'y0': 1, 'y1': 0}],\n",
       "               'template': '...',\n",
       "               'xaxis': {'constrain': 'domain', 'range': [0, 1], 'title': {'text': 'Recall'}},\n",
       "               'yaxis': {'constrain': 'domain',\n",
       "                         'range': [0, 1],\n",
       "                         'scaleanchor': 'x',\n",
       "                         'scaleratio': 1,\n",
       "                         'title': {'text': 'Precision'}}}\n",
       "})"
      ]
     },
     "metadata": {},
     "output_type": "display_data"
    },
    {
     "data": {
      "text/plain": []
     },
     "metadata": {},
     "output_type": "display_data"
    },
    {
     "data": {},
     "metadata": {},
     "output_type": "display_data"
    },
    {
     "data": {
      "text/plain": []
     },
     "metadata": {},
     "output_type": "display_data"
    },
    {
     "data": {
      "application/vnd.jupyter.widget-view+json": {
       "model_id": "e8696c3407bb473c9b517b9072914cfd",
       "version_major": 2,
       "version_minor": 0
      },
      "text/plain": [
       "FigureWidget({\n",
       "    'data': [{'customdata': array([0.97857 , 0.947649, 0.941255, 0.938699, 0.935492, 0.932175, 0.927678,\n",
       "                                   0.91917 , 0.834625, 0.832963, 0.831045, 0.827992, 0.826102, 0.822968,\n",
       "                                   0.820836, 0.817875, 0.815207, 0.812189, 0.80933 , 0.805934, 0.802664,\n",
       "                                   0.799312, 0.796133, 0.792533, 0.788723, 0.782329, 0.701467, 0.698509,\n",
       "                                   0.696314, 0.693958, 0.691559, 0.689607, 0.687238, 0.685058, 0.682614,\n",
       "                                   0.679802, 0.677609, 0.675011, 0.671851, 0.667468, 0.659232, 0.644106,\n",
       "                                   0.606421, 0.581431, 0.579541, 0.576952, 0.573657, 0.570545, 0.566248,\n",
       "                                   0.560408, 0.551899, 0.544453, 0.530335, 0.51036 , 0.476159, 0.471232,\n",
       "                                   0.466264, 0.457793, 0.451314, 0.441615, 0.426717, 0.409925, 0.366387,\n",
       "                                   0.358643, 0.347966, 0.333269, 0.317629, 0.299465, 0.276293, 0.232772,\n",
       "                                   0.213689, 0.193608, 0.171213, 0.133306, 0.115008, 0.075169, 0.063392,\n",
       "                                   0.02914 , 0.021138, 0.      , 0.      , 0.      , 0.      , 0.      ,\n",
       "                                   0.      , 0.      , 0.      , 0.      , 0.      , 0.      , 0.      ,\n",
       "                                   0.      , 0.      , 0.      , 0.      , 0.      , 0.      , 0.      ,\n",
       "                                   0.      , 0.      , 0.      ]),\n",
       "              'hovertemplate': ('<b>class: %{text}</b><br>recal' ... 'customdata:.3f}<extra></extra>'),\n",
       "              'line': {'color': '#FF6D04'},\n",
       "              'mode': 'lines',\n",
       "              'name': 'runway (AP = 0.525)',\n",
       "              'text': array(['runway', 'runway', 'runway', 'runway', 'runway', 'runway', 'runway',\n",
       "                             'runway', 'runway', 'runway', 'runway', 'runway', 'runway', 'runway',\n",
       "                             'runway', 'runway', 'runway', 'runway', 'runway', 'runway', 'runway',\n",
       "                             'runway', 'runway', 'runway', 'runway', 'runway', 'runway', 'runway',\n",
       "                             'runway', 'runway', 'runway', 'runway', 'runway', 'runway', 'runway',\n",
       "                             'runway', 'runway', 'runway', 'runway', 'runway', 'runway', 'runway',\n",
       "                             'runway', 'runway', 'runway', 'runway', 'runway', 'runway', 'runway',\n",
       "                             'runway', 'runway', 'runway', 'runway', 'runway', 'runway', 'runway',\n",
       "                             'runway', 'runway', 'runway', 'runway', 'runway', 'runway', 'runway',\n",
       "                             'runway', 'runway', 'runway', 'runway', 'runway', 'runway', 'runway',\n",
       "                             'runway', 'runway', 'runway', 'runway', 'runway', 'runway', 'runway',\n",
       "                             'runway', 'runway', 'runway', 'runway', 'runway', 'runway', 'runway',\n",
       "                             'runway', 'runway', 'runway', 'runway', 'runway', 'runway', 'runway',\n",
       "                             'runway', 'runway', 'runway', 'runway', 'runway', 'runway', 'runway',\n",
       "                             'runway', 'runway', 'runway'], dtype='<U6'),\n",
       "              'type': 'scatter',\n",
       "              'uid': '772c55ff-73d1-4da3-8c09-f5dabd72f483',\n",
       "              'x': array([0.  , 0.01, 0.02, 0.03, 0.04, 0.05, 0.06, 0.07, 0.08, 0.09, 0.1 , 0.11,\n",
       "                          0.12, 0.13, 0.14, 0.15, 0.16, 0.17, 0.18, 0.19, 0.2 , 0.21, 0.22, 0.23,\n",
       "                          0.24, 0.25, 0.26, 0.27, 0.28, 0.29, 0.3 , 0.31, 0.32, 0.33, 0.34, 0.35,\n",
       "                          0.36, 0.37, 0.38, 0.39, 0.4 , 0.41, 0.42, 0.43, 0.44, 0.45, 0.46, 0.47,\n",
       "                          0.48, 0.49, 0.5 , 0.51, 0.52, 0.53, 0.54, 0.55, 0.56, 0.57, 0.58, 0.59,\n",
       "                          0.6 , 0.61, 0.62, 0.63, 0.64, 0.65, 0.66, 0.67, 0.68, 0.69, 0.7 , 0.71,\n",
       "                          0.72, 0.73, 0.74, 0.75, 0.76, 0.77, 0.78, 0.79, 0.8 , 0.81, 0.82, 0.83,\n",
       "                          0.84, 0.85, 0.86, 0.87, 0.88, 0.89, 0.9 , 0.91, 0.92, 0.93, 0.94, 0.95,\n",
       "                          0.96, 0.97, 0.98, 0.99, 1.  ]),\n",
       "              'y': array([0.95925926, 0.9546081 , 0.94758764, 0.94623332, 0.93327509, 0.92695414,\n",
       "                          0.91977369, 0.90770039, 0.88899892, 0.88813719, 0.8862453 , 0.88349357,\n",
       "                          0.88209291, 0.88045123, 0.87805209, 0.87569089, 0.87404314, 0.87074068,\n",
       "                          0.8647395 , 0.86208947, 0.85832467, 0.85176237, 0.845024  , 0.83246057,\n",
       "                          0.82841561, 0.81559422, 0.77283274, 0.77165583, 0.77083778, 0.7681913 ,\n",
       "                          0.76703321, 0.76442551, 0.7621445 , 0.75933289, 0.75750207, 0.75288869,\n",
       "                          0.74988545, 0.74522155, 0.74025323, 0.73493145, 0.72860531, 0.72277775,\n",
       "                          0.71379111, 0.66491338, 0.66338754, 0.66009289, 0.65619323, 0.65292814,\n",
       "                          0.64883539, 0.64389851, 0.63881852, 0.63609608, 0.63155951, 0.62638066,\n",
       "                          0.56263272, 0.5586724 , 0.55650417, 0.55148164, 0.55053181, 0.54793708,\n",
       "                          0.54346696, 0.5392117 , 0.46479385, 0.46260872, 0.45908288, 0.4546339 ,\n",
       "                          0.45114086, 0.44680776, 0.44185454, 0.36064259, 0.35702722, 0.35315844,\n",
       "                          0.34963412, 0.26700458, 0.26402156, 0.17771128, 0.17586142, 0.08816794,\n",
       "                          0.08654841, 0.        , 0.        , 0.        , 0.        , 0.        ,\n",
       "                          0.        , 0.        , 0.        , 0.        , 0.        , 0.        ,\n",
       "                          0.        , 0.        , 0.        , 0.        , 0.        , 0.        ,\n",
       "                          0.        , 0.        , 0.        , 0.        , 0.        ])}],\n",
       "    'layout': {'margin': {'b': 0, 'l': 0, 'r': 0, 't': 30},\n",
       "               'shapes': [{'line': {'dash': 'dash'}, 'type': 'line', 'x0': 0, 'x1': 1, 'y0': 1, 'y1': 0}],\n",
       "               'template': '...',\n",
       "               'xaxis': {'constrain': 'domain', 'range': [0, 1], 'title': {'text': 'Recall'}},\n",
       "               'yaxis': {'constrain': 'domain',\n",
       "                         'range': [0, 1],\n",
       "                         'scaleanchor': 'x',\n",
       "                         'scaleratio': 1,\n",
       "                         'title': {'text': 'Precision'}}}\n",
       "})"
      ]
     },
     "metadata": {},
     "output_type": "display_data"
    },
    {
     "data": {
      "text/plain": []
     },
     "metadata": {},
     "output_type": "display_data"
    },
    {
     "data": {},
     "metadata": {},
     "output_type": "display_data"
    },
    {
     "data": {
      "text/plain": []
     },
     "metadata": {},
     "output_type": "display_data"
    },
    {
     "data": {
      "application/vnd.jupyter.widget-view+json": {
       "model_id": "29ec85f0953341a9aab67e7beadc4772",
       "version_major": 2,
       "version_minor": 0
      },
      "text/plain": [
       "FigureWidget({\n",
       "    'data': [{'customdata': array([0.94782 , 0.930047, 0.842616, 0.834495, 0.830204, 0.820231, 0.817865,\n",
       "                                   0.813246, 0.807959, 0.804819, 0.79472 , 0.782843, 0.708691, 0.703788,\n",
       "                                   0.7002  , 0.696863, 0.693354, 0.689579, 0.685588, 0.677899, 0.666871,\n",
       "                                   0.593132, 0.588675, 0.582504, 0.578449, 0.574444, 0.566464, 0.555457,\n",
       "                                   0.518361, 0.495809, 0.467118, 0.461626, 0.456532, 0.416119, 0.395076,\n",
       "                                   0.362418, 0.353723, 0.312717, 0.292288, 0.254965, 0.206719, 0.165217,\n",
       "                                   0.119556, 0.102939, 0.085846, 0.054104, 0.026614, 0.022417, 0.      ,\n",
       "                                   0.      , 0.      , 0.      , 0.      , 0.      , 0.      , 0.      ,\n",
       "                                   0.      , 0.      , 0.      , 0.      , 0.      , 0.      , 0.      ,\n",
       "                                   0.      , 0.      , 0.      , 0.      , 0.      , 0.      , 0.      ,\n",
       "                                   0.      , 0.      , 0.      , 0.      , 0.      , 0.      , 0.      ,\n",
       "                                   0.      , 0.      , 0.      , 0.      , 0.      , 0.      , 0.      ,\n",
       "                                   0.      , 0.      , 0.      , 0.      , 0.      , 0.      , 0.      ,\n",
       "                                   0.      , 0.      , 0.      , 0.      , 0.      , 0.      , 0.      ,\n",
       "                                   0.      , 0.      , 0.      ]),\n",
       "              'hovertemplate': ('<b>class: %{text}</b><br>recal' ... 'customdata:.3f}<extra></extra>'),\n",
       "              'line': {'color': '#FF6D04'},\n",
       "              'mode': 'lines',\n",
       "              'name': 'runway (AP = 0.288)',\n",
       "              'text': array(['runway', 'runway', 'runway', 'runway', 'runway', 'runway', 'runway',\n",
       "                             'runway', 'runway', 'runway', 'runway', 'runway', 'runway', 'runway',\n",
       "                             'runway', 'runway', 'runway', 'runway', 'runway', 'runway', 'runway',\n",
       "                             'runway', 'runway', 'runway', 'runway', 'runway', 'runway', 'runway',\n",
       "                             'runway', 'runway', 'runway', 'runway', 'runway', 'runway', 'runway',\n",
       "                             'runway', 'runway', 'runway', 'runway', 'runway', 'runway', 'runway',\n",
       "                             'runway', 'runway', 'runway', 'runway', 'runway', 'runway', 'runway',\n",
       "                             'runway', 'runway', 'runway', 'runway', 'runway', 'runway', 'runway',\n",
       "                             'runway', 'runway', 'runway', 'runway', 'runway', 'runway', 'runway',\n",
       "                             'runway', 'runway', 'runway', 'runway', 'runway', 'runway', 'runway',\n",
       "                             'runway', 'runway', 'runway', 'runway', 'runway', 'runway', 'runway',\n",
       "                             'runway', 'runway', 'runway', 'runway', 'runway', 'runway', 'runway',\n",
       "                             'runway', 'runway', 'runway', 'runway', 'runway', 'runway', 'runway',\n",
       "                             'runway', 'runway', 'runway', 'runway', 'runway', 'runway', 'runway',\n",
       "                             'runway', 'runway', 'runway'], dtype='<U6'),\n",
       "              'type': 'scatter',\n",
       "              'uid': '69725cca-15fc-47f5-8805-414715af7f90',\n",
       "              'x': array([0.  , 0.01, 0.02, 0.03, 0.04, 0.05, 0.06, 0.07, 0.08, 0.09, 0.1 , 0.11,\n",
       "                          0.12, 0.13, 0.14, 0.15, 0.16, 0.17, 0.18, 0.19, 0.2 , 0.21, 0.22, 0.23,\n",
       "                          0.24, 0.25, 0.26, 0.27, 0.28, 0.29, 0.3 , 0.31, 0.32, 0.33, 0.34, 0.35,\n",
       "                          0.36, 0.37, 0.38, 0.39, 0.4 , 0.41, 0.42, 0.43, 0.44, 0.45, 0.46, 0.47,\n",
       "                          0.48, 0.49, 0.5 , 0.51, 0.52, 0.53, 0.54, 0.55, 0.56, 0.57, 0.58, 0.59,\n",
       "                          0.6 , 0.61, 0.62, 0.63, 0.64, 0.65, 0.66, 0.67, 0.68, 0.69, 0.7 , 0.71,\n",
       "                          0.72, 0.73, 0.74, 0.75, 0.76, 0.77, 0.78, 0.79, 0.8 , 0.81, 0.82, 0.83,\n",
       "                          0.84, 0.85, 0.86, 0.87, 0.88, 0.89, 0.9 , 0.91, 0.92, 0.93, 0.94, 0.95,\n",
       "                          0.96, 0.97, 0.98, 0.99, 1.  ]),\n",
       "              'y': array([1.        , 0.89617225, 0.89090909, 0.89090909, 0.86666667, 0.83849206,\n",
       "                          0.83080357, 0.82036474, 0.81038779, 0.80458333, 0.79076663, 0.78719361,\n",
       "                          0.75546788, 0.74904216, 0.74283318, 0.74283318, 0.74073809, 0.73690837,\n",
       "                          0.73418758, 0.72578489, 0.71713877, 0.66666119, 0.66242723, 0.65684923,\n",
       "                          0.65376922, 0.65035334, 0.64473359, 0.63578348, 0.6209528 , 0.61000776,\n",
       "                          0.55863298, 0.55438809, 0.55231962, 0.53006182, 0.51553993, 0.45463587,\n",
       "                          0.44791   , 0.42434319, 0.411137  , 0.39421716, 0.31974418, 0.30193968,\n",
       "                          0.23041584, 0.22443873, 0.21816311, 0.14623621, 0.07435897, 0.07313433,\n",
       "                          0.        , 0.        , 0.        , 0.        , 0.        , 0.        ,\n",
       "                          0.        , 0.        , 0.        , 0.        , 0.        , 0.        ,\n",
       "                          0.        , 0.        , 0.        , 0.        , 0.        , 0.        ,\n",
       "                          0.        , 0.        , 0.        , 0.        , 0.        , 0.        ,\n",
       "                          0.        , 0.        , 0.        , 0.        , 0.        , 0.        ,\n",
       "                          0.        , 0.        , 0.        , 0.        , 0.        , 0.        ,\n",
       "                          0.        , 0.        , 0.        , 0.        , 0.        , 0.        ,\n",
       "                          0.        , 0.        , 0.        , 0.        , 0.        , 0.        ,\n",
       "                          0.        , 0.        , 0.        , 0.        , 0.        ])}],\n",
       "    'layout': {'margin': {'b': 0, 'l': 0, 'r': 0, 't': 30},\n",
       "               'shapes': [{'line': {'dash': 'dash'}, 'type': 'line', 'x0': 0, 'x1': 1, 'y0': 1, 'y1': 0}],\n",
       "               'template': '...',\n",
       "               'xaxis': {'constrain': 'domain', 'range': [0, 1], 'title': {'text': 'Recall'}},\n",
       "               'yaxis': {'constrain': 'domain',\n",
       "                         'range': [0, 1],\n",
       "                         'scaleanchor': 'x',\n",
       "                         'scaleratio': 1,\n",
       "                         'title': {'text': 'Precision'}}}\n",
       "})"
      ]
     },
     "metadata": {},
     "output_type": "display_data"
    },
    {
     "data": {
      "text/plain": []
     },
     "metadata": {},
     "output_type": "display_data"
    }
   ],
   "source": [
    "for datatype, results in all_results.items():\n",
    "    plot_pr = results.plot_pr_curves()\n",
    "    display(plot_pr)"
   ]
  },
  {
   "cell_type": "code",
   "execution_count": 4,
   "metadata": {},
   "outputs": [
    {
     "data": {},
     "metadata": {},
     "output_type": "display_data"
    },
    {
     "data": {
      "text/plain": []
     },
     "metadata": {},
     "output_type": "display_data"
    },
    {
     "data": {
      "application/vnd.jupyter.widget-view+json": {
       "model_id": "c5357e2093dc4eeaa2eb331c9a062ff7",
       "version_major": 2,
       "version_minor": 0
      },
      "text/plain": [
       "FigureWidget({\n",
       "    'data': [{'mode': 'markers',\n",
       "              'opacity': 0.1,\n",
       "              'type': 'scatter',\n",
       "              'uid': '3c08baf6-3571-4a09-866c-622d6b63b9c8',\n",
       "              'x': array([0, 1, 0, 1]),\n",
       "              'y': array([0, 0, 1, 1])},\n",
       "             {'colorscale': [[0.0, 'rgb(255,245,235)'], [0.125,\n",
       "                             'rgb(254,230,206)'], [0.25, 'rgb(253,208,162)'],\n",
       "                             [0.375, 'rgb(253,174,107)'], [0.5, 'rgb(253,141,60)'],\n",
       "                             [0.625, 'rgb(241,105,19)'], [0.75, 'rgb(217,72,1)'],\n",
       "                             [0.875, 'rgb(166,54,3)'], [1.0, 'rgb(127,39,4)']],\n",
       "              'hoverinfo': 'skip',\n",
       "              'showscale': False,\n",
       "              'type': 'heatmap',\n",
       "              'uid': '06f23ec3-20dc-4478-a6a2-008a8c5d659d',\n",
       "              'z': array([[  65,    0],\n",
       "                          [2141,   71]]),\n",
       "              'zmax': 2141,\n",
       "              'zmin': 0},\n",
       "             {'colorbar': {'len': 1, 'lenmode': 'fraction'},\n",
       "              'colorscale': [[0.0, 'rgb(255,245,235)'], [0.125,\n",
       "                             'rgb(254,230,206)'], [0.25, 'rgb(253,208,162)'],\n",
       "                             [0.375, 'rgb(253,174,107)'], [0.5, 'rgb(253,141,60)'],\n",
       "                             [0.625, 'rgb(241,105,19)'], [0.75, 'rgb(217,72,1)'],\n",
       "                             [0.875, 'rgb(166,54,3)'], [1.0, 'rgb(127,39,4)']],\n",
       "              'hovertemplate': '<b>count: %{z}</b><br>truth: %{y}<br>predicted: %{x}<extra></extra>',\n",
       "              'opacity': 0.25,\n",
       "              'type': 'heatmap',\n",
       "              'uid': '23b7f86d-5dd1-4c2b-b452-a600cac7d687',\n",
       "              'z': array([[  65,    0],\n",
       "                          [2141,   71]]),\n",
       "              'zmax': 2141,\n",
       "              'zmin': 0}],\n",
       "    'layout': {'clickmode': 'event',\n",
       "               'margin': {'b': 0, 'l': 0, 'r': 0, 't': 30},\n",
       "               'template': '...',\n",
       "               'title': {},\n",
       "               'xaxis': {'constrain': 'domain',\n",
       "                         'range': [-0.5, 1.5],\n",
       "                         'tickmode': 'array',\n",
       "                         'ticktext': [runway, (none)],\n",
       "                         'tickvals': array([0, 1])},\n",
       "               'yaxis': {'constrain': 'domain',\n",
       "                         'range': [-0.5, 1.5],\n",
       "                         'scaleanchor': 'x',\n",
       "                         'scaleratio': 1,\n",
       "                         'tickmode': 'array',\n",
       "                         'ticktext': array(['(none)', 'runway'], dtype=object),\n",
       "                         'tickvals': array([0, 1])}}\n",
       "})"
      ]
     },
     "metadata": {},
     "output_type": "display_data"
    },
    {
     "data": {
      "text/plain": []
     },
     "metadata": {},
     "output_type": "display_data"
    },
    {
     "data": {},
     "metadata": {},
     "output_type": "display_data"
    },
    {
     "data": {
      "text/plain": []
     },
     "metadata": {},
     "output_type": "display_data"
    },
    {
     "data": {
      "application/vnd.jupyter.widget-view+json": {
       "model_id": "5ac27cc25d894be8aad5291ac41e27ab",
       "version_major": 2,
       "version_minor": 0
      },
      "text/plain": [
       "FigureWidget({\n",
       "    'data': [{'mode': 'markers',\n",
       "              'opacity': 0.1,\n",
       "              'type': 'scatter',\n",
       "              'uid': 'e25f8f90-1789-4a2b-8d30-427f450bff7f',\n",
       "              'x': array([0, 1, 0, 1]),\n",
       "              'y': array([0, 0, 1, 1])},\n",
       "             {'colorscale': [[0.0, 'rgb(255,245,235)'], [0.125,\n",
       "                             'rgb(254,230,206)'], [0.25, 'rgb(253,208,162)'],\n",
       "                             [0.375, 'rgb(253,174,107)'], [0.5, 'rgb(253,141,60)'],\n",
       "                             [0.625, 'rgb(241,105,19)'], [0.75, 'rgb(217,72,1)'],\n",
       "                             [0.875, 'rgb(166,54,3)'], [1.0, 'rgb(127,39,4)']],\n",
       "              'hoverinfo': 'skip',\n",
       "              'showscale': False,\n",
       "              'type': 'heatmap',\n",
       "              'uid': '5816bfb3-9164-4d1a-8fcb-098ae25fbd6b',\n",
       "              'z': array([[ 187,    0],\n",
       "                          [1173,  327]]),\n",
       "              'zmax': 1173,\n",
       "              'zmin': 0},\n",
       "             {'colorbar': {'len': 1, 'lenmode': 'fraction'},\n",
       "              'colorscale': [[0.0, 'rgb(255,245,235)'], [0.125,\n",
       "                             'rgb(254,230,206)'], [0.25, 'rgb(253,208,162)'],\n",
       "                             [0.375, 'rgb(253,174,107)'], [0.5, 'rgb(253,141,60)'],\n",
       "                             [0.625, 'rgb(241,105,19)'], [0.75, 'rgb(217,72,1)'],\n",
       "                             [0.875, 'rgb(166,54,3)'], [1.0, 'rgb(127,39,4)']],\n",
       "              'hovertemplate': '<b>count: %{z}</b><br>truth: %{y}<br>predicted: %{x}<extra></extra>',\n",
       "              'opacity': 0.25,\n",
       "              'type': 'heatmap',\n",
       "              'uid': '7a7e83c9-d370-4e89-b8db-b3b3f0d49b30',\n",
       "              'z': array([[ 187,    0],\n",
       "                          [1173,  327]]),\n",
       "              'zmax': 1173,\n",
       "              'zmin': 0}],\n",
       "    'layout': {'clickmode': 'event',\n",
       "               'margin': {'b': 0, 'l': 0, 'r': 0, 't': 30},\n",
       "               'template': '...',\n",
       "               'title': {},\n",
       "               'xaxis': {'constrain': 'domain',\n",
       "                         'range': [-0.5, 1.5],\n",
       "                         'tickmode': 'array',\n",
       "                         'ticktext': [runway, (none)],\n",
       "                         'tickvals': array([0, 1])},\n",
       "               'yaxis': {'constrain': 'domain',\n",
       "                         'range': [-0.5, 1.5],\n",
       "                         'scaleanchor': 'x',\n",
       "                         'scaleratio': 1,\n",
       "                         'tickmode': 'array',\n",
       "                         'ticktext': array(['(none)', 'runway'], dtype=object),\n",
       "                         'tickvals': array([0, 1])}}\n",
       "})"
      ]
     },
     "metadata": {},
     "output_type": "display_data"
    },
    {
     "data": {
      "text/plain": []
     },
     "metadata": {},
     "output_type": "display_data"
    },
    {
     "data": {},
     "metadata": {},
     "output_type": "display_data"
    },
    {
     "data": {
      "text/plain": []
     },
     "metadata": {},
     "output_type": "display_data"
    },
    {
     "data": {
      "application/vnd.jupyter.widget-view+json": {
       "model_id": "cb0e6ec5618b4806a69a5434055c4e3a",
       "version_major": 2,
       "version_minor": 0
      },
      "text/plain": [
       "FigureWidget({\n",
       "    'data': [{'mode': 'markers',\n",
       "              'opacity': 0.1,\n",
       "              'type': 'scatter',\n",
       "              'uid': 'd876153e-e7a0-44c6-b706-9bbd842ffea9',\n",
       "              'x': array([0, 1, 0, 1]),\n",
       "              'y': array([0, 0, 1, 1])},\n",
       "             {'colorscale': [[0.0, 'rgb(255,245,235)'], [0.125,\n",
       "                             'rgb(254,230,206)'], [0.25, 'rgb(253,208,162)'],\n",
       "                             [0.375, 'rgb(253,174,107)'], [0.5, 'rgb(253,141,60)'],\n",
       "                             [0.625, 'rgb(241,105,19)'], [0.75, 'rgb(217,72,1)'],\n",
       "                             [0.875, 'rgb(166,54,3)'], [1.0, 'rgb(127,39,4)']],\n",
       "              'hoverinfo': 'skip',\n",
       "              'showscale': False,\n",
       "              'type': 'heatmap',\n",
       "              'uid': '69d13966-69e5-410a-b375-7f4d50cb238a',\n",
       "              'z': array([[ 60,   0],\n",
       "                          [148, 163]]),\n",
       "              'zmax': 163,\n",
       "              'zmin': 0},\n",
       "             {'colorbar': {'len': 1, 'lenmode': 'fraction'},\n",
       "              'colorscale': [[0.0, 'rgb(255,245,235)'], [0.125,\n",
       "                             'rgb(254,230,206)'], [0.25, 'rgb(253,208,162)'],\n",
       "                             [0.375, 'rgb(253,174,107)'], [0.5, 'rgb(253,141,60)'],\n",
       "                             [0.625, 'rgb(241,105,19)'], [0.75, 'rgb(217,72,1)'],\n",
       "                             [0.875, 'rgb(166,54,3)'], [1.0, 'rgb(127,39,4)']],\n",
       "              'hovertemplate': '<b>count: %{z}</b><br>truth: %{y}<br>predicted: %{x}<extra></extra>',\n",
       "              'opacity': 0.25,\n",
       "              'type': 'heatmap',\n",
       "              'uid': 'd92dba7c-15ea-42ae-a011-1e26b54e46dc',\n",
       "              'z': array([[ 60,   0],\n",
       "                          [148, 163]]),\n",
       "              'zmax': 163,\n",
       "              'zmin': 0}],\n",
       "    'layout': {'clickmode': 'event',\n",
       "               'margin': {'b': 0, 'l': 0, 'r': 0, 't': 30},\n",
       "               'template': '...',\n",
       "               'title': {},\n",
       "               'xaxis': {'constrain': 'domain',\n",
       "                         'range': [-0.5, 1.5],\n",
       "                         'tickmode': 'array',\n",
       "                         'ticktext': [runway, (none)],\n",
       "                         'tickvals': array([0, 1])},\n",
       "               'yaxis': {'constrain': 'domain',\n",
       "                         'range': [-0.5, 1.5],\n",
       "                         'scaleanchor': 'x',\n",
       "                         'scaleratio': 1,\n",
       "                         'tickmode': 'array',\n",
       "                         'ticktext': array(['(none)', 'runway'], dtype=object),\n",
       "                         'tickvals': array([0, 1])}}\n",
       "})"
      ]
     },
     "metadata": {},
     "output_type": "display_data"
    },
    {
     "data": {
      "text/plain": []
     },
     "metadata": {},
     "output_type": "display_data"
    }
   ],
   "source": [
    "for datatype, results in all_results.items():\n",
    "    plot_mat = results.plot_confusion_matrix()\n",
    "    display(plot_mat)\n"
   ]
  }
 ],
 "metadata": {
  "kernelspec": {
   "display_name": "pytorch-gpu",
   "language": "python",
   "name": "python3"
  },
  "language_info": {
   "codemirror_mode": {
    "name": "ipython",
    "version": 3
   },
   "file_extension": ".py",
   "mimetype": "text/x-python",
   "name": "python",
   "nbconvert_exporter": "python",
   "pygments_lexer": "ipython3",
   "version": "3.9.7"
  }
 },
 "nbformat": 4,
 "nbformat_minor": 2
}
